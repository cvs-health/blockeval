{
 "cells": [
  {
   "cell_type": "markdown",
   "id": "66f5633a-f1b7-438f-9c0e-d9909d9030be",
   "metadata": {},
   "source": [
    "# Import"
   ]
  },
  {
   "cell_type": "code",
   "execution_count": 2,
   "id": "12a80dd4-b35a-4b36-9a0b-f44773291284",
   "metadata": {
    "ExecuteTime": {
     "end_time": "2023-08-22T16:20:19.231636Z",
     "start_time": "2023-08-22T16:20:19.176498Z"
    },
    "init_cell": true,
    "scrolled": true
   },
   "outputs": [],
   "source": [
    "import numpy as np\n",
    "import pandas as pd\n",
    "from matplotlib import pyplot as plt\n",
    "from blockeval.analysis import *\n",
    "from blockeval.utils import campaign_simulation"
   ]
  },
  {
   "cell_type": "code",
   "execution_count": 3,
   "id": "8197221f-12ed-4eef-b04a-542dacf79601",
   "metadata": {
    "ExecuteTime": {
     "end_time": "2023-08-22T16:20:19.246744Z",
     "start_time": "2023-08-22T16:20:19.234445Z"
    },
    "init_cell": true,
    "scrolled": true
   },
   "outputs": [],
   "source": [
    "# options\n",
    "pd.options.display.float_format = '{:.4f}'.format"
   ]
  },
  {
   "cell_type": "markdown",
   "id": "dc90a462-45dc-419c-8f9e-6b4edd3cea0f",
   "metadata": {},
   "source": [
    "# Data preparation"
   ]
  },
  {
   "cell_type": "markdown",
   "id": "00ce7939-e0ce-40d1-8b88-46065e92b023",
   "metadata": {},
   "source": [
    "The campaign data has to be stored in a pandas dataframe with a row for each individual and the following columns:\n",
    "- **block**: block labels\n",
    "- **treatment**: treatment indicator (0 for control, 1 for treated)\n",
    "- **outcome**: campaign outcome (binary 0 or 1, or continuous)\n",
    "\n",
    "To illustrage the dataframe structure, we simulate an uplift campain with four blocks:"
   ]
  },
  {
   "cell_type": "code",
   "execution_count": 4,
   "id": "02d2c811-3399-488c-b03f-95dd588822ef",
   "metadata": {
    "ExecuteTime": {
     "end_time": "2023-08-20T20:45:09.490912Z",
     "start_time": "2023-08-20T20:45:09.405274Z"
    }
   },
   "outputs": [],
   "source": [
    "uplift_data = campaign_simulation(blocks = ['public_refractory', 'public_persuadable', 'private_refractory', 'private_persuadable'],\n",
    "        block_sizes = [100000,  100000, 100000, 100000],\n",
    "        treatment_probas = [0.5,  0.8, 0.5, 0.8],\n",
    "        control_means = [0.15, 0.15, 0.15, 0.15],\n",
    "        treatment_effects = [0, 0.04, 0, 0.04])"
   ]
  },
  {
   "cell_type": "markdown",
   "id": "44ec2faa-5c9c-43d9-bae7-3bfd0f6219f7",
   "metadata": {},
   "source": [
    "Higher level groups can be derived from the blocks:"
   ]
  },
  {
   "cell_type": "code",
   "execution_count": 5,
   "id": "d18f55ab-1650-4730-96f0-385c9f52abc5",
   "metadata": {
    "ExecuteTime": {
     "end_time": "2023-08-20T20:45:09.701968Z",
     "start_time": "2023-08-20T20:45:09.493230Z"
    },
    "scrolled": true
   },
   "outputs": [],
   "source": [
    "uplift_data['segment'] = np.where(uplift_data['block'].str.contains('public'), 'public', 'private')\n",
    "uplift_data['segment'] = pd.Categorical(uplift_data['segment'], categories=['public', 'private'], ordered=True)\n",
    "uplift_data['persona'] = np.where(uplift_data['block'].str.contains('refractory'), 'refractory', 'persuadable')\n",
    "uplift_data['persona'] = pd.Categorical(uplift_data['persona'], categories=['refractory', 'persuadable'], ordered=True)"
   ]
  },
  {
   "cell_type": "markdown",
   "id": "2b2ff5eb-4457-4583-ba9a-8bbd41a46699",
   "metadata": {},
   "source": [
    "The campaign data should look similar to the extract below with at least the three columns **outcome**, **treatment**, and **block**:"
   ]
  },
  {
   "cell_type": "code",
   "execution_count": 6,
   "id": "b8bd8aa6-54c1-4260-bc59-f0f128ec718f",
   "metadata": {
    "ExecuteTime": {
     "end_time": "2023-08-20T20:45:09.759022Z",
     "start_time": "2023-08-20T20:45:09.703787Z"
    },
    "scrolled": true
   },
   "outputs": [
    {
     "data": {
      "text/html": [
       "<div>\n",
       "<style scoped>\n",
       "    .dataframe tbody tr th:only-of-type {\n",
       "        vertical-align: middle;\n",
       "    }\n",
       "\n",
       "    .dataframe tbody tr th {\n",
       "        vertical-align: top;\n",
       "    }\n",
       "\n",
       "    .dataframe thead th {\n",
       "        text-align: right;\n",
       "    }\n",
       "</style>\n",
       "<table border=\"1\" class=\"dataframe\">\n",
       "  <thead>\n",
       "    <tr style=\"text-align: right;\">\n",
       "      <th></th>\n",
       "      <th>outcome</th>\n",
       "      <th>treatment</th>\n",
       "      <th>block</th>\n",
       "      <th>segment</th>\n",
       "      <th>persona</th>\n",
       "    </tr>\n",
       "  </thead>\n",
       "  <tbody>\n",
       "    <tr>\n",
       "      <th>0</th>\n",
       "      <td>0</td>\n",
       "      <td>1</td>\n",
       "      <td>public_refractory</td>\n",
       "      <td>public</td>\n",
       "      <td>refractory</td>\n",
       "    </tr>\n",
       "    <tr>\n",
       "      <th>1</th>\n",
       "      <td>1</td>\n",
       "      <td>1</td>\n",
       "      <td>public_refractory</td>\n",
       "      <td>public</td>\n",
       "      <td>refractory</td>\n",
       "    </tr>\n",
       "    <tr>\n",
       "      <th>2</th>\n",
       "      <td>0</td>\n",
       "      <td>1</td>\n",
       "      <td>public_refractory</td>\n",
       "      <td>public</td>\n",
       "      <td>refractory</td>\n",
       "    </tr>\n",
       "    <tr>\n",
       "      <th>3</th>\n",
       "      <td>0</td>\n",
       "      <td>1</td>\n",
       "      <td>public_refractory</td>\n",
       "      <td>public</td>\n",
       "      <td>refractory</td>\n",
       "    </tr>\n",
       "    <tr>\n",
       "      <th>4</th>\n",
       "      <td>0</td>\n",
       "      <td>1</td>\n",
       "      <td>public_refractory</td>\n",
       "      <td>public</td>\n",
       "      <td>refractory</td>\n",
       "    </tr>\n",
       "  </tbody>\n",
       "</table>\n",
       "</div>"
      ],
      "text/plain": [
       "   outcome  treatment              block segment     persona\n",
       "0        0          1  public_refractory  public  refractory\n",
       "1        1          1  public_refractory  public  refractory\n",
       "2        0          1  public_refractory  public  refractory\n",
       "3        0          1  public_refractory  public  refractory\n",
       "4        0          1  public_refractory  public  refractory"
      ]
     },
     "execution_count": 6,
     "metadata": {},
     "output_type": "execute_result"
    }
   ],
   "source": [
    "uplift_data.head()"
   ]
  },
  {
   "cell_type": "markdown",
   "id": "82674143-a4e7-4ae5-a65f-d2aaa9f6ccb7",
   "metadata": {},
   "source": [
    "Importantly, a treated and control groups is expected within each block like in the simulated uplift campaign:"
   ]
  },
  {
   "cell_type": "markdown",
   "id": "4ba55bcb-0893-44ba-9c30-d8e2ed0a7b72",
   "metadata": {},
   "source": [
    "![UpliftDesign](figures/UpliftDesign.PNG)"
   ]
  },
  {
   "cell_type": "markdown",
   "id": "f48d085b-a021-4192-8c79-f333554c6513",
   "metadata": {
    "tags": []
   },
   "source": [
    "# Block Summary"
   ]
  },
  {
   "cell_type": "markdown",
   "id": "d84dab7e-69f8-4864-b6a4-d16df1f5b08a",
   "metadata": {},
   "source": [
    "We first summarize the design and results by block. The *keep_cols* argument is optional and used to keep information about higher level groups in the summary:"
   ]
  },
  {
   "cell_type": "code",
   "execution_count": 7,
   "id": "82947583-a94b-4a22-aeb1-a9e72f5c1ffd",
   "metadata": {
    "ExecuteTime": {
     "end_time": "2023-08-20T20:45:11.609976Z",
     "start_time": "2023-08-20T20:45:11.447049Z"
    }
   },
   "outputs": [
    {
     "data": {
      "text/html": [
       "<div>\n",
       "<style scoped>\n",
       "    .dataframe tbody tr th:only-of-type {\n",
       "        vertical-align: middle;\n",
       "    }\n",
       "\n",
       "    .dataframe tbody tr th {\n",
       "        vertical-align: top;\n",
       "    }\n",
       "\n",
       "    .dataframe thead th {\n",
       "        text-align: right;\n",
       "    }\n",
       "</style>\n",
       "<table border=\"1\" class=\"dataframe\">\n",
       "  <thead>\n",
       "    <tr style=\"text-align: right;\">\n",
       "      <th></th>\n",
       "      <th>block</th>\n",
       "      <th>segment</th>\n",
       "      <th>persona</th>\n",
       "      <th>eff</th>\n",
       "      <th>treated_mean</th>\n",
       "      <th>control_mean</th>\n",
       "      <th>treated_size</th>\n",
       "      <th>control_size</th>\n",
       "      <th>block_size</th>\n",
       "      <th>treatment_proba</th>\n",
       "    </tr>\n",
       "  </thead>\n",
       "  <tbody>\n",
       "    <tr>\n",
       "      <th>0</th>\n",
       "      <td>public_refractory</td>\n",
       "      <td>public</td>\n",
       "      <td>refractory</td>\n",
       "      <td>0.0005</td>\n",
       "      <td>0.1491</td>\n",
       "      <td>0.1486</td>\n",
       "      <td>50000</td>\n",
       "      <td>50000</td>\n",
       "      <td>100000</td>\n",
       "      <td>0.5000</td>\n",
       "    </tr>\n",
       "    <tr>\n",
       "      <th>1</th>\n",
       "      <td>public_persuadable</td>\n",
       "      <td>public</td>\n",
       "      <td>persuadable</td>\n",
       "      <td>0.0397</td>\n",
       "      <td>0.1914</td>\n",
       "      <td>0.1517</td>\n",
       "      <td>80000</td>\n",
       "      <td>20000</td>\n",
       "      <td>100000</td>\n",
       "      <td>0.8000</td>\n",
       "    </tr>\n",
       "    <tr>\n",
       "      <th>2</th>\n",
       "      <td>private_refractory</td>\n",
       "      <td>private</td>\n",
       "      <td>refractory</td>\n",
       "      <td>0.0026</td>\n",
       "      <td>0.1522</td>\n",
       "      <td>0.1496</td>\n",
       "      <td>50000</td>\n",
       "      <td>50000</td>\n",
       "      <td>100000</td>\n",
       "      <td>0.5000</td>\n",
       "    </tr>\n",
       "    <tr>\n",
       "      <th>3</th>\n",
       "      <td>private_persuadable</td>\n",
       "      <td>private</td>\n",
       "      <td>persuadable</td>\n",
       "      <td>0.0424</td>\n",
       "      <td>0.1889</td>\n",
       "      <td>0.1465</td>\n",
       "      <td>80000</td>\n",
       "      <td>20000</td>\n",
       "      <td>100000</td>\n",
       "      <td>0.8000</td>\n",
       "    </tr>\n",
       "  </tbody>\n",
       "</table>\n",
       "</div>"
      ],
      "text/plain": [
       "                 block  segment      persona    eff  treated_mean  \\\n",
       "0    public_refractory   public   refractory 0.0005        0.1491   \n",
       "1   public_persuadable   public  persuadable 0.0397        0.1914   \n",
       "2   private_refractory  private   refractory 0.0026        0.1522   \n",
       "3  private_persuadable  private  persuadable 0.0424        0.1889   \n",
       "\n",
       "   control_mean  treated_size  control_size  block_size  treatment_proba  \n",
       "0        0.1486         50000         50000      100000           0.5000  \n",
       "1        0.1517         80000         20000      100000           0.8000  \n",
       "2        0.1496         50000         50000      100000           0.5000  \n",
       "3        0.1465         80000         20000      100000           0.8000  "
      ]
     },
     "execution_count": 7,
     "metadata": {},
     "output_type": "execute_result"
    }
   ],
   "source": [
    "block_summary(uplift_data, keep_cols=['segment', 'persona'])"
   ]
  },
  {
   "cell_type": "markdown",
   "id": "13a36346-7f8b-41b9-8b7e-c6fbea12faa0",
   "metadata": {},
   "source": [
    "We can see from the 'eff' column that the treatment effects are close to 4pp in the two Persuadable blocks and close to 0pp in the Refractory ones."
   ]
  },
  {
   "cell_type": "markdown",
   "id": "4e25946b-d3a5-41dd-96e8-0f4c044493e5",
   "metadata": {},
   "source": [
    "# Treatment Effects"
   ]
  },
  {
   "cell_type": "markdown",
   "id": "f6a93897-ae0a-4ae3-9d77-cb617384e92e",
   "metadata": {
    "ExecuteTime": {
     "end_time": "2023-08-20T19:26:04.452732Z",
     "start_time": "2023-08-20T19:26:04.446382Z"
    }
   },
   "source": [
    "The p-value and confidence interval of the treatment effects can be obtained for each block:"
   ]
  },
  {
   "cell_type": "code",
   "execution_count": 8,
   "id": "c58f9def-be4a-46c1-9a1f-0d249a3b4601",
   "metadata": {
    "ExecuteTime": {
     "end_time": "2023-08-20T20:45:11.723494Z",
     "start_time": "2023-08-20T20:45:11.668074Z"
    },
    "scrolled": true
   },
   "outputs": [
    {
     "data": {
      "text/html": [
       "<div>\n",
       "<style scoped>\n",
       "    .dataframe tbody tr th:only-of-type {\n",
       "        vertical-align: middle;\n",
       "    }\n",
       "\n",
       "    .dataframe tbody tr th {\n",
       "        vertical-align: top;\n",
       "    }\n",
       "\n",
       "    .dataframe thead th {\n",
       "        text-align: right;\n",
       "    }\n",
       "</style>\n",
       "<table border=\"1\" class=\"dataframe\">\n",
       "  <thead>\n",
       "    <tr style=\"text-align: right;\">\n",
       "      <th></th>\n",
       "      <th>block</th>\n",
       "      <th>eff</th>\n",
       "      <th>treated_mean</th>\n",
       "      <th>control_mean</th>\n",
       "      <th>treated_size</th>\n",
       "      <th>control_size</th>\n",
       "      <th>group_size</th>\n",
       "      <th>eff_se</th>\n",
       "      <th>z</th>\n",
       "      <th>p_value</th>\n",
       "      <th>ci_low</th>\n",
       "      <th>ci_upp</th>\n",
       "      <th>incremental</th>\n",
       "    </tr>\n",
       "  </thead>\n",
       "  <tbody>\n",
       "    <tr>\n",
       "      <th>0</th>\n",
       "      <td>public_refractory</td>\n",
       "      <td>0.0005</td>\n",
       "      <td>0.1491</td>\n",
       "      <td>0.1486</td>\n",
       "      <td>50000</td>\n",
       "      <td>50000</td>\n",
       "      <td>100000</td>\n",
       "      <td>0.0023</td>\n",
       "      <td>0.2399</td>\n",
       "      <td>0.8104</td>\n",
       "      <td>-0.0039</td>\n",
       "      <td>0.0050</td>\n",
       "      <td>54.0000</td>\n",
       "    </tr>\n",
       "    <tr>\n",
       "      <th>1</th>\n",
       "      <td>public_persuadable</td>\n",
       "      <td>0.0397</td>\n",
       "      <td>0.1914</td>\n",
       "      <td>0.1517</td>\n",
       "      <td>80000</td>\n",
       "      <td>20000</td>\n",
       "      <td>100000</td>\n",
       "      <td>0.0029</td>\n",
       "      <td>13.7169</td>\n",
       "      <td>0.0000</td>\n",
       "      <td>0.0340</td>\n",
       "      <td>0.0454</td>\n",
       "      <td>3968.7500</td>\n",
       "    </tr>\n",
       "    <tr>\n",
       "      <th>2</th>\n",
       "      <td>private_refractory</td>\n",
       "      <td>0.0026</td>\n",
       "      <td>0.1522</td>\n",
       "      <td>0.1496</td>\n",
       "      <td>50000</td>\n",
       "      <td>50000</td>\n",
       "      <td>100000</td>\n",
       "      <td>0.0023</td>\n",
       "      <td>1.1308</td>\n",
       "      <td>0.2581</td>\n",
       "      <td>-0.0019</td>\n",
       "      <td>0.0070</td>\n",
       "      <td>256.0000</td>\n",
       "    </tr>\n",
       "    <tr>\n",
       "      <th>3</th>\n",
       "      <td>private_persuadable</td>\n",
       "      <td>0.0424</td>\n",
       "      <td>0.1889</td>\n",
       "      <td>0.1465</td>\n",
       "      <td>80000</td>\n",
       "      <td>20000</td>\n",
       "      <td>100000</td>\n",
       "      <td>0.0029</td>\n",
       "      <td>14.8234</td>\n",
       "      <td>0.0000</td>\n",
       "      <td>0.0368</td>\n",
       "      <td>0.0480</td>\n",
       "      <td>4236.2500</td>\n",
       "    </tr>\n",
       "  </tbody>\n",
       "</table>\n",
       "</div>"
      ],
      "text/plain": [
       "                 block    eff  treated_mean  control_mean  treated_size  \\\n",
       "0    public_refractory 0.0005        0.1491        0.1486         50000   \n",
       "1   public_persuadable 0.0397        0.1914        0.1517         80000   \n",
       "2   private_refractory 0.0026        0.1522        0.1496         50000   \n",
       "3  private_persuadable 0.0424        0.1889        0.1465         80000   \n",
       "\n",
       "   control_size  group_size  eff_se       z  p_value  ci_low  ci_upp  \\\n",
       "0         50000      100000  0.0023  0.2399   0.8104 -0.0039  0.0050   \n",
       "1         20000      100000  0.0029 13.7169   0.0000  0.0340  0.0454   \n",
       "2         50000      100000  0.0023  1.1308   0.2581 -0.0019  0.0070   \n",
       "3         20000      100000  0.0029 14.8234   0.0000  0.0368  0.0480   \n",
       "\n",
       "   incremental  \n",
       "0      54.0000  \n",
       "1    3968.7500  \n",
       "2     256.0000  \n",
       "3    4236.2500  "
      ]
     },
     "execution_count": 8,
     "metadata": {},
     "output_type": "execute_result"
    }
   ],
   "source": [
    "weighted_avg_test(uplift_data, group_by=['block'])"
   ]
  },
  {
   "cell_type": "markdown",
   "id": "7034b466-1614-4a0d-9c8f-67adf89da6d0",
   "metadata": {
    "ExecuteTime": {
     "end_time": "2023-08-20T19:26:04.452732Z",
     "start_time": "2023-08-20T19:26:04.446382Z"
    }
   },
   "source": [
    "Results show significant effects for the Persuadable blocks but not for the Refractory ones. The output also shows the incremental conversions if both the treated and control groups were exposed to the intervention ('incremental' = 'eff' * 'group_size')."
   ]
  },
  {
   "cell_type": "markdown",
   "id": "85377325-111d-4acf-acb6-fc474cf97ffa",
   "metadata": {},
   "source": [
    "Results can be rolled-up to group of blocks. Here the treatment effects are rolled-up to the persona level by changing the *group_by* argument:"
   ]
  },
  {
   "cell_type": "code",
   "execution_count": 17,
   "id": "8ef1ae38-c8b8-4681-a87d-e0f34af0b2dd",
   "metadata": {
    "ExecuteTime": {
     "end_time": "2023-08-20T20:45:11.723494Z",
     "start_time": "2023-08-20T20:45:11.668074Z"
    },
    "scrolled": true
   },
   "outputs": [
    {
     "data": {
      "text/html": [
       "<div>\n",
       "<style scoped>\n",
       "    .dataframe tbody tr th:only-of-type {\n",
       "        vertical-align: middle;\n",
       "    }\n",
       "\n",
       "    .dataframe tbody tr th {\n",
       "        vertical-align: top;\n",
       "    }\n",
       "\n",
       "    .dataframe thead th {\n",
       "        text-align: right;\n",
       "    }\n",
       "</style>\n",
       "<table border=\"1\" class=\"dataframe\">\n",
       "  <thead>\n",
       "    <tr style=\"text-align: right;\">\n",
       "      <th></th>\n",
       "      <th>persona</th>\n",
       "      <th>eff</th>\n",
       "      <th>treated_mean</th>\n",
       "      <th>control_mean</th>\n",
       "      <th>treated_size</th>\n",
       "      <th>control_size</th>\n",
       "      <th>group_size</th>\n",
       "      <th>eff_se</th>\n",
       "      <th>z</th>\n",
       "      <th>p_value</th>\n",
       "      <th>ci_low</th>\n",
       "      <th>ci_upp</th>\n",
       "      <th>incremental</th>\n",
       "    </tr>\n",
       "  </thead>\n",
       "  <tbody>\n",
       "    <tr>\n",
       "      <th>0</th>\n",
       "      <td>refractory</td>\n",
       "      <td>0.0015</td>\n",
       "      <td>0.1507</td>\n",
       "      <td>0.1491</td>\n",
       "      <td>100000</td>\n",
       "      <td>100000</td>\n",
       "      <td>200000</td>\n",
       "      <td>0.0016</td>\n",
       "      <td>0.9710</td>\n",
       "      <td>0.3316</td>\n",
       "      <td>-0.0016</td>\n",
       "      <td>0.0047</td>\n",
       "      <td>310.0000</td>\n",
       "    </tr>\n",
       "    <tr>\n",
       "      <th>1</th>\n",
       "      <td>persuadable</td>\n",
       "      <td>0.0410</td>\n",
       "      <td>0.1901</td>\n",
       "      <td>0.1491</td>\n",
       "      <td>160000</td>\n",
       "      <td>40000</td>\n",
       "      <td>200000</td>\n",
       "      <td>0.0020</td>\n",
       "      <td>20.1758</td>\n",
       "      <td>0.0000</td>\n",
       "      <td>0.0370</td>\n",
       "      <td>0.0450</td>\n",
       "      <td>8205.0000</td>\n",
       "    </tr>\n",
       "  </tbody>\n",
       "</table>\n",
       "</div>"
      ],
      "text/plain": [
       "       persona    eff  treated_mean  control_mean  treated_size  control_size  \\\n",
       "0   refractory 0.0015        0.1507        0.1491        100000        100000   \n",
       "1  persuadable 0.0410        0.1901        0.1491        160000         40000   \n",
       "\n",
       "   group_size  eff_se       z  p_value  ci_low  ci_upp  incremental  \n",
       "0      200000  0.0016  0.9710   0.3316 -0.0016  0.0047     310.0000  \n",
       "1      200000  0.0020 20.1758   0.0000  0.0370  0.0450    8205.0000  "
      ]
     },
     "execution_count": 17,
     "metadata": {},
     "output_type": "execute_result"
    }
   ],
   "source": [
    "weighted_avg_test(uplift_data, group_by=['persona'])"
   ]
  },
  {
   "cell_type": "markdown",
   "id": "a82fb7c1-9b54-4cdc-a40d-31af49d5d9f5",
   "metadata": {},
   "source": [
    "For the Refractory persona, the treatment effect is 0.15pp with a 95% CI of [-0.16, 0.47]. For the Persuadable persona, it is 4.10pp with a 95% CI of [3.70, 4.50]."
   ]
  },
  {
   "cell_type": "markdown",
   "id": "a76eb938-6d8e-44f1-b4ae-483e7b3ad870",
   "metadata": {},
   "source": [
    "The overall treatment effect with p-value and confidence interval can be obtained by omiting the *group_by* argument:"
   ]
  },
  {
   "cell_type": "code",
   "execution_count": 16,
   "id": "bc5da821-cebc-40a4-9e6a-35d092d7dec3",
   "metadata": {
    "ExecuteTime": {
     "end_time": "2023-08-20T20:45:11.666215Z",
     "start_time": "2023-08-20T20:45:11.612300Z"
    },
    "scrolled": true
   },
   "outputs": [
    {
     "data": {
      "text/html": [
       "<div>\n",
       "<style scoped>\n",
       "    .dataframe tbody tr th:only-of-type {\n",
       "        vertical-align: middle;\n",
       "    }\n",
       "\n",
       "    .dataframe tbody tr th {\n",
       "        vertical-align: top;\n",
       "    }\n",
       "\n",
       "    .dataframe thead th {\n",
       "        text-align: right;\n",
       "    }\n",
       "</style>\n",
       "<table border=\"1\" class=\"dataframe\">\n",
       "  <thead>\n",
       "    <tr style=\"text-align: right;\">\n",
       "      <th></th>\n",
       "      <th>group</th>\n",
       "      <th>eff</th>\n",
       "      <th>treated_mean</th>\n",
       "      <th>control_mean</th>\n",
       "      <th>treated_size</th>\n",
       "      <th>control_size</th>\n",
       "      <th>group_size</th>\n",
       "      <th>eff_se</th>\n",
       "      <th>z</th>\n",
       "      <th>p_value</th>\n",
       "      <th>ci_low</th>\n",
       "      <th>ci_upp</th>\n",
       "      <th>incremental</th>\n",
       "    </tr>\n",
       "  </thead>\n",
       "  <tbody>\n",
       "    <tr>\n",
       "      <th>0</th>\n",
       "      <td>all</td>\n",
       "      <td>0.0213</td>\n",
       "      <td>0.1704</td>\n",
       "      <td>0.1491</td>\n",
       "      <td>260000</td>\n",
       "      <td>140000</td>\n",
       "      <td>400000</td>\n",
       "      <td>0.0013</td>\n",
       "      <td>16.4690</td>\n",
       "      <td>0.0000</td>\n",
       "      <td>0.0188</td>\n",
       "      <td>0.0238</td>\n",
       "      <td>8515.0000</td>\n",
       "    </tr>\n",
       "  </tbody>\n",
       "</table>\n",
       "</div>"
      ],
      "text/plain": [
       "  group    eff  treated_mean  control_mean  treated_size  control_size  \\\n",
       "0   all 0.0213        0.1704        0.1491        260000        140000   \n",
       "\n",
       "   group_size  eff_se       z  p_value  ci_low  ci_upp  incremental  \n",
       "0      400000  0.0013 16.4690   0.0000  0.0188  0.0238    8515.0000  "
      ]
     },
     "execution_count": 16,
     "metadata": {},
     "output_type": "execute_result"
    }
   ],
   "source": [
    "weighted_avg_test(uplift_data)"
   ]
  },
  {
   "cell_type": "markdown",
   "id": "a8601ad8-e2e5-40f7-a4b9-f2f948a8fcee",
   "metadata": {},
   "source": [
    "# Comparing Treatment Effects"
   ]
  },
  {
   "cell_type": "markdown",
   "id": "7ffc0102-6b59-4876-a227-16de3815b856",
   "metadata": {},
   "source": [
    "Treatment effects can be compared between blocks. The first block 'public_refractory' is used as the reference:"
   ]
  },
  {
   "cell_type": "code",
   "execution_count": 11,
   "id": "e8396af1-60a4-4b9d-856b-9572cfd71266",
   "metadata": {
    "ExecuteTime": {
     "end_time": "2023-08-20T20:45:11.774229Z",
     "start_time": "2023-08-20T20:45:11.725099Z"
    },
    "scrolled": true
   },
   "outputs": [
    {
     "data": {
      "text/html": [
       "<div>\n",
       "<style scoped>\n",
       "    .dataframe tbody tr th:only-of-type {\n",
       "        vertical-align: middle;\n",
       "    }\n",
       "\n",
       "    .dataframe tbody tr th {\n",
       "        vertical-align: top;\n",
       "    }\n",
       "\n",
       "    .dataframe thead th {\n",
       "        text-align: right;\n",
       "    }\n",
       "</style>\n",
       "<table border=\"1\" class=\"dataframe\">\n",
       "  <thead>\n",
       "    <tr style=\"text-align: right;\">\n",
       "      <th></th>\n",
       "      <th>eff_delta</th>\n",
       "      <th>variant_grp</th>\n",
       "      <th>reference_grp</th>\n",
       "      <th>variant_size</th>\n",
       "      <th>reference_size</th>\n",
       "      <th>eff_se</th>\n",
       "      <th>z</th>\n",
       "      <th>p_value</th>\n",
       "      <th>ci_low</th>\n",
       "      <th>ci_upp</th>\n",
       "    </tr>\n",
       "  </thead>\n",
       "  <tbody>\n",
       "    <tr>\n",
       "      <th>0</th>\n",
       "      <td>0.0391</td>\n",
       "      <td>public_persuadable</td>\n",
       "      <td>public_refractory</td>\n",
       "      <td>100000</td>\n",
       "      <td>100000</td>\n",
       "      <td>0.0037</td>\n",
       "      <td>10.6785</td>\n",
       "      <td>0.0000</td>\n",
       "      <td>0.0320</td>\n",
       "      <td>0.0463</td>\n",
       "    </tr>\n",
       "    <tr>\n",
       "      <th>1</th>\n",
       "      <td>0.0020</td>\n",
       "      <td>private_refractory</td>\n",
       "      <td>public_refractory</td>\n",
       "      <td>100000</td>\n",
       "      <td>100000</td>\n",
       "      <td>0.0032</td>\n",
       "      <td>0.6327</td>\n",
       "      <td>0.5269</td>\n",
       "      <td>-0.0042</td>\n",
       "      <td>0.0083</td>\n",
       "    </tr>\n",
       "    <tr>\n",
       "      <th>2</th>\n",
       "      <td>0.0418</td>\n",
       "      <td>private_persuadable</td>\n",
       "      <td>public_refractory</td>\n",
       "      <td>100000</td>\n",
       "      <td>100000</td>\n",
       "      <td>0.0036</td>\n",
       "      <td>11.4958</td>\n",
       "      <td>0.0000</td>\n",
       "      <td>0.0347</td>\n",
       "      <td>0.0490</td>\n",
       "    </tr>\n",
       "  </tbody>\n",
       "</table>\n",
       "</div>"
      ],
      "text/plain": [
       "   eff_delta          variant_grp      reference_grp  variant_size  \\\n",
       "0     0.0391   public_persuadable  public_refractory        100000   \n",
       "1     0.0020   private_refractory  public_refractory        100000   \n",
       "2     0.0418  private_persuadable  public_refractory        100000   \n",
       "\n",
       "   reference_size  eff_se       z  p_value  ci_low  ci_upp  \n",
       "0          100000  0.0037 10.6785   0.0000  0.0320  0.0463  \n",
       "1          100000  0.0032  0.6327   0.5269 -0.0042  0.0083  \n",
       "2          100000  0.0036 11.4958   0.0000  0.0347  0.0490  "
      ]
     },
     "execution_count": 11,
     "metadata": {},
     "output_type": "execute_result"
    }
   ],
   "source": [
    "comparison_test(uplift_data, compare_along='block')"
   ]
  },
  {
   "cell_type": "markdown",
   "id": "15f339b6-a906-475f-aac8-57d950c27c3d",
   "metadata": {},
   "source": [
    "Effects can also be compared at a higher level by changing the *compare_along* argument:"
   ]
  },
  {
   "cell_type": "code",
   "execution_count": 9,
   "id": "f7a50942-ab71-45f2-b2aa-079e67565488",
   "metadata": {
    "ExecuteTime": {
     "end_time": "2023-08-20T20:45:11.774229Z",
     "start_time": "2023-08-20T20:45:11.725099Z"
    },
    "scrolled": true
   },
   "outputs": [
    {
     "data": {
      "text/html": [
       "<div>\n",
       "<style scoped>\n",
       "    .dataframe tbody tr th:only-of-type {\n",
       "        vertical-align: middle;\n",
       "    }\n",
       "\n",
       "    .dataframe tbody tr th {\n",
       "        vertical-align: top;\n",
       "    }\n",
       "\n",
       "    .dataframe thead th {\n",
       "        text-align: right;\n",
       "    }\n",
       "</style>\n",
       "<table border=\"1\" class=\"dataframe\">\n",
       "  <thead>\n",
       "    <tr style=\"text-align: right;\">\n",
       "      <th></th>\n",
       "      <th>eff_delta</th>\n",
       "      <th>variant_grp</th>\n",
       "      <th>reference_grp</th>\n",
       "      <th>variant_size</th>\n",
       "      <th>reference_size</th>\n",
       "      <th>eff_se</th>\n",
       "      <th>z</th>\n",
       "      <th>p_value</th>\n",
       "      <th>ci_low</th>\n",
       "      <th>ci_upp</th>\n",
       "    </tr>\n",
       "  </thead>\n",
       "  <tbody>\n",
       "    <tr>\n",
       "      <th>0</th>\n",
       "      <td>0.0395</td>\n",
       "      <td>persuadable</td>\n",
       "      <td>refractory</td>\n",
       "      <td>200000</td>\n",
       "      <td>200000</td>\n",
       "      <td>0.0026</td>\n",
       "      <td>15.2699</td>\n",
       "      <td>0.0000</td>\n",
       "      <td>0.0344</td>\n",
       "      <td>0.0445</td>\n",
       "    </tr>\n",
       "  </tbody>\n",
       "</table>\n",
       "</div>"
      ],
      "text/plain": [
       "   eff_delta  variant_grp reference_grp  variant_size  reference_size  eff_se  \\\n",
       "0     0.0395  persuadable    refractory        200000          200000  0.0026   \n",
       "\n",
       "        z  p_value  ci_low  ci_upp  \n",
       "0 15.2699   0.0000  0.0344  0.0445  "
      ]
     },
     "execution_count": 9,
     "metadata": {},
     "output_type": "execute_result"
    }
   ],
   "source": [
    "comparison_test(uplift_data, compare_along='persona')"
   ]
  },
  {
   "cell_type": "markdown",
   "id": "bce1dd63-1fdf-4b3c-9f24-cd3cc5921f82",
   "metadata": {},
   "source": [
    "Results show an uplift of 3.95pp with a 95% CI of [3.44pp, 4.45pp]."
   ]
  }
 ],
 "metadata": {
  "kernelspec": {
   "display_name": "Python (Local)",
   "language": "python",
   "name": "local-base"
  },
  "language_info": {
   "codemirror_mode": {
    "name": "ipython",
    "version": 3
   },
   "file_extension": ".py",
   "mimetype": "text/x-python",
   "name": "python",
   "nbconvert_exporter": "python",
   "pygments_lexer": "ipython3",
   "version": "3.7.12"
  }
 },
 "nbformat": 4,
 "nbformat_minor": 5
}
