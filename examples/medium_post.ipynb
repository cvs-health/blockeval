{
 "cells": [
  {
   "cell_type": "markdown",
   "id": "076410bb-95a2-4135-87da-64a72d036c1c",
   "metadata": {},
   "source": [
    "# Import"
   ]
  },
  {
   "cell_type": "code",
   "execution_count": 1,
   "id": "53e2fbc3-ac96-4e2b-a28e-82866fed18ce",
   "metadata": {
    "ExecuteTime": {
     "end_time": "2023-08-22T16:20:19.231636Z",
     "start_time": "2023-08-22T16:20:19.176498Z"
    },
    "init_cell": true,
    "scrolled": true
   },
   "outputs": [],
   "source": [
    "import numpy as np\n",
    "import pandas as pd\n",
    "# from matplotlib import pyplot as plt\n",
    "# from blockeval.analysis import *\n",
    "# from blockeval.utils import campaign_simulation"
   ]
  },
  {
   "cell_type": "code",
   "execution_count": 49,
   "id": "f26f7cd1-46db-49f8-a944-894c6dcf27d0",
   "metadata": {
    "ExecuteTime": {
     "end_time": "2023-08-22T16:20:19.246744Z",
     "start_time": "2023-08-22T16:20:19.234445Z"
    },
    "init_cell": true,
    "scrolled": true
   },
   "outputs": [],
   "source": [
    "# style\n",
    "from matplotlib import style\n",
    "style.use(\"ggplot\")\n",
    "pd.options.display.float_format = '{:.4f}'.format"
   ]
  },
  {
   "cell_type": "markdown",
   "id": "1c784715-2d94-4549-bee8-e94921e01893",
   "metadata": {},
   "source": [
    "# Uplift Campaign Analysis"
   ]
  },
  {
   "cell_type": "markdown",
   "id": "a1a37336-bc87-45fa-a484-ed49a4ee1a0b",
   "metadata": {},
   "source": [
    "In this simulation, we have 2 business segments, Public and Private, and 2 personas, Refractory and Persuadable, thus making up 4 blocks. The personas come from a hypothetical uplift model. The 2 Persuadable blocks have an ATE of 4 percentage points (pp) and the Refractory ones have no treatment effect with an ATE of 0pp. Within each block, customers are randomized into a Treated and a Control group:"
   ]
  },
  {
   "cell_type": "markdown",
   "id": "12f93622-62d1-4378-9984-39e429afd646",
   "metadata": {},
   "source": [
    "![UpliftDesign](figures/UpliftDesign.PNG)"
   ]
  },
  {
   "cell_type": "markdown",
   "id": "46bef83e-ddd7-40a8-82a6-5c7ad1d71fb8",
   "metadata": {},
   "source": [
    "To optimize Return-On-Investment (ROI), the proportion of customers assigned to the treatment is higher in the Persuadable blocks (80%) compared to the Refractory ones (20%). In this simulated campaign, the outcome is binary, 1 for the customers who subscribed to a service, 0 otherwise."
   ]
  },
  {
   "cell_type": "markdown",
   "id": "104bafb6-ba3d-4ab8-bbe8-ec14ecd514ae",
   "metadata": {},
   "source": [
    "## Data simulation"
   ]
  },
  {
   "cell_type": "markdown",
   "id": "77a90900-0873-4f7a-bdb6-d722d2d7b04e",
   "metadata": {},
   "source": [
    "The outcomes of 100,000 customers are simulated for the 4 blocks presented in the figure above. The blocks have the same sample size, but the treatment probabilities and the treatment effects are higher in the 'public_persuadable' and 'private_persuadable' blocks:"
   ]
  },
  {
   "cell_type": "code",
   "execution_count": 7,
   "id": "02325b2c-b605-4d07-bd56-baf739c1339b",
   "metadata": {
    "ExecuteTime": {
     "end_time": "2023-08-20T20:45:09.490912Z",
     "start_time": "2023-08-20T20:45:09.405274Z"
    }
   },
   "outputs": [],
   "source": [
    "uplift_data = campaign_simulation(blocks = ['public_refractory', 'public_persuadable', 'private_refractory', 'private_persuadable'],\n",
    "        block_sizes = [100000,  100000, 100000, 100000],\n",
    "        treatment_probas = [0.5,  0.8, 0.5, 0.8],\n",
    "        control_means = [0.15, 0.15, 0.15, 0.15],\n",
    "        treatment_effects = [0, 0.04, 0, 0.04])"
   ]
  },
  {
   "cell_type": "markdown",
   "id": "47045741-852e-4fc0-9aab-c9aa1829c494",
   "metadata": {},
   "source": [
    "The 'segment' and 'persona' columns are then derived from the blocks. To control how the results will be displayed, these new columns are converted to ordered categorical variables. The first category of the segment ('public') and persona ('refractory') will be used as the reference level when comparing groups:"
   ]
  },
  {
   "cell_type": "code",
   "execution_count": 8,
   "id": "c03ffa57-2454-4918-8235-b764779f6111",
   "metadata": {
    "ExecuteTime": {
     "end_time": "2023-08-20T20:45:09.701968Z",
     "start_time": "2023-08-20T20:45:09.493230Z"
    },
    "scrolled": true
   },
   "outputs": [],
   "source": [
    "uplift_data['segment'] = np.where(uplift_data['block'].str.contains('public'), 'public', 'private')\n",
    "uplift_data['segment'] = pd.Categorical(uplift_data['segment'], categories=['public', 'private'], ordered=True)\n",
    "uplift_data['persona'] = np.where(uplift_data['block'].str.contains('refractory'), 'refractory', 'persuadable')\n",
    "uplift_data['persona'] = pd.Categorical(uplift_data['persona'], categories=['refractory', 'persuadable'], ordered=True)"
   ]
  },
  {
   "cell_type": "markdown",
   "id": "588ba62c-e26b-4fac-842a-38c22a829916",
   "metadata": {},
   "source": [
    "Below is an extract of the campaign data. The 'treatment' indicator is set to 1 for the Treated group and to 0 otherwise:"
   ]
  },
  {
   "cell_type": "code",
   "execution_count": 9,
   "id": "caf7a858-0005-47ed-a97d-e0762afde280",
   "metadata": {
    "ExecuteTime": {
     "end_time": "2023-08-20T20:45:09.759022Z",
     "start_time": "2023-08-20T20:45:09.703787Z"
    },
    "scrolled": true
   },
   "outputs": [
    {
     "data": {
      "text/html": [
       "<div>\n",
       "<style scoped>\n",
       "    .dataframe tbody tr th:only-of-type {\n",
       "        vertical-align: middle;\n",
       "    }\n",
       "\n",
       "    .dataframe tbody tr th {\n",
       "        vertical-align: top;\n",
       "    }\n",
       "\n",
       "    .dataframe thead th {\n",
       "        text-align: right;\n",
       "    }\n",
       "</style>\n",
       "<table border=\"1\" class=\"dataframe\">\n",
       "  <thead>\n",
       "    <tr style=\"text-align: right;\">\n",
       "      <th></th>\n",
       "      <th>outcome</th>\n",
       "      <th>treatment</th>\n",
       "      <th>block</th>\n",
       "      <th>segment</th>\n",
       "      <th>persona</th>\n",
       "    </tr>\n",
       "  </thead>\n",
       "  <tbody>\n",
       "    <tr>\n",
       "      <th>0</th>\n",
       "      <td>0</td>\n",
       "      <td>1</td>\n",
       "      <td>public_refractory</td>\n",
       "      <td>public</td>\n",
       "      <td>refractory</td>\n",
       "    </tr>\n",
       "    <tr>\n",
       "      <th>1</th>\n",
       "      <td>1</td>\n",
       "      <td>1</td>\n",
       "      <td>public_refractory</td>\n",
       "      <td>public</td>\n",
       "      <td>refractory</td>\n",
       "    </tr>\n",
       "    <tr>\n",
       "      <th>2</th>\n",
       "      <td>0</td>\n",
       "      <td>1</td>\n",
       "      <td>public_refractory</td>\n",
       "      <td>public</td>\n",
       "      <td>refractory</td>\n",
       "    </tr>\n",
       "    <tr>\n",
       "      <th>3</th>\n",
       "      <td>0</td>\n",
       "      <td>1</td>\n",
       "      <td>public_refractory</td>\n",
       "      <td>public</td>\n",
       "      <td>refractory</td>\n",
       "    </tr>\n",
       "    <tr>\n",
       "      <th>4</th>\n",
       "      <td>0</td>\n",
       "      <td>1</td>\n",
       "      <td>public_refractory</td>\n",
       "      <td>public</td>\n",
       "      <td>refractory</td>\n",
       "    </tr>\n",
       "  </tbody>\n",
       "</table>\n",
       "</div>"
      ],
      "text/plain": [
       "   outcome  treatment              block segment     persona\n",
       "0        0          1  public_refractory  public  refractory\n",
       "1        1          1  public_refractory  public  refractory\n",
       "2        0          1  public_refractory  public  refractory\n",
       "3        0          1  public_refractory  public  refractory\n",
       "4        0          1  public_refractory  public  refractory"
      ]
     },
     "execution_count": 9,
     "metadata": {},
     "output_type": "execute_result"
    }
   ],
   "source": [
    "uplift_data.head()"
   ]
  },
  {
   "cell_type": "markdown",
   "id": "57f5e667-11b0-4b0e-be02-cf5e06e93d62",
   "metadata": {},
   "source": [
    "## Simple Mean Comparison"
   ]
  },
  {
   "cell_type": "markdown",
   "id": "93591c2c-5e82-4bb5-8d0d-300c13da4a7b",
   "metadata": {},
   "source": [
    "When calculating the means, we see that the outcome is higher in the Treated group (17.50%) compared to the Control group (14.91%). The difference gives an overall ATE of 2.58pp:"
   ]
  },
  {
   "cell_type": "code",
   "execution_count": 10,
   "id": "35ae88a9-22fd-4ab0-bbf3-d4a78bf69f96",
   "metadata": {
    "ExecuteTime": {
     "end_time": "2023-08-20T20:45:09.779151Z",
     "start_time": "2023-08-20T20:45:09.761019Z"
    },
    "scrolled": true
   },
   "outputs": [
    {
     "data": {
      "text/html": [
       "<div>\n",
       "<style scoped>\n",
       "    .dataframe tbody tr th:only-of-type {\n",
       "        vertical-align: middle;\n",
       "    }\n",
       "\n",
       "    .dataframe tbody tr th {\n",
       "        vertical-align: top;\n",
       "    }\n",
       "\n",
       "    .dataframe thead th {\n",
       "        text-align: right;\n",
       "    }\n",
       "</style>\n",
       "<table border=\"1\" class=\"dataframe\">\n",
       "  <thead>\n",
       "    <tr style=\"text-align: right;\">\n",
       "      <th></th>\n",
       "      <th>control</th>\n",
       "      <th>treated</th>\n",
       "      <th>difference</th>\n",
       "    </tr>\n",
       "  </thead>\n",
       "  <tbody>\n",
       "    <tr>\n",
       "      <th>outcome</th>\n",
       "      <td>0.1491</td>\n",
       "      <td>0.1750</td>\n",
       "      <td>0.0258</td>\n",
       "    </tr>\n",
       "  </tbody>\n",
       "</table>\n",
       "</div>"
      ],
      "text/plain": [
       "         control  treated  difference\n",
       "outcome   0.1491   0.1750      0.0258"
      ]
     },
     "execution_count": 10,
     "metadata": {},
     "output_type": "execute_result"
    }
   ],
   "source": [
    "s = uplift_data.groupby('treatment')['outcome'].mean()\n",
    "df = pd.DataFrame(s.append(s.diff()[[1]])).reset_index(drop=True).transpose()\n",
    "df.columns = ['control', 'treated', 'difference']\n",
    "df"
   ]
  },
  {
   "cell_type": "markdown",
   "id": "b017746b-7fe1-4c19-ad74-b1f4a679bdcf",
   "metadata": {},
   "source": [
    "The observed 2.58pp difference is higher than the expected 2pp ATE, but without a confidence interval, it is difficult to judge if the estimation is biased or not."
   ]
  },
  {
   "cell_type": "markdown",
   "id": "c3ba739a-3824-4ec6-ab83-2cd4725cbe61",
   "metadata": {},
   "source": [
    "## Regressions Give Conflicting Results"
   ]
  },
  {
   "cell_type": "markdown",
   "id": "39db01dc-98b5-430c-aba7-9e2bd9a3dcbe",
   "metadata": {},
   "source": [
    "The second approach to estimate the ATE is to fit a regression to the entire campaign and include the treatment indicator as an independent variable:"
   ]
  },
  {
   "cell_type": "code",
   "execution_count": 11,
   "id": "80448565-2d80-477c-9428-fdadd49284da",
   "metadata": {
    "ExecuteTime": {
     "end_time": "2023-08-20T20:45:10.774402Z",
     "start_time": "2023-08-20T20:45:09.780651Z"
    }
   },
   "outputs": [
    {
     "data": {
      "text/html": [
       "<table class=\"simpletable\">\n",
       "<tr>\n",
       "      <td></td>         <th>coef</th>     <th>std err</th>      <th>t</th>      <th>P>|t|</th>  <th>[0.025</th>    <th>0.975]</th>  \n",
       "</tr>\n",
       "<tr>\n",
       "  <th>Intercept</th> <td>    0.1491</td> <td>    0.001</td> <td>  150.063</td> <td> 0.000</td> <td>    0.147</td> <td>    0.151</td>\n",
       "</tr>\n",
       "<tr>\n",
       "  <th>treatment</th> <td>    0.0258</td> <td>    0.001</td> <td>   20.971</td> <td> 0.000</td> <td>    0.023</td> <td>    0.028</td>\n",
       "</tr>\n",
       "</table>"
      ],
      "text/plain": [
       "<class 'statsmodels.iolib.table.SimpleTable'>"
      ]
     },
     "execution_count": 11,
     "metadata": {},
     "output_type": "execute_result"
    }
   ],
   "source": [
    "# treatment only\n",
    "regression = smf.ols('outcome ~ treatment', data=uplift_data).fit()\n",
    "regression.summary().tables[1]"
   ]
  },
  {
   "cell_type": "markdown",
   "id": "673d44e4-86d3-4f80-8316-ea4e22466750",
   "metadata": {},
   "source": [
    "The regression gives an ATE of 2.58pp, the same as the simple mean comparison. The 95% CI of [2.3pp, 2.8pp] does not include the true ATE of 2pp. Thus, the simple mean comparison and the regression overestimate the ATE."
   ]
  },
  {
   "cell_type": "markdown",
   "id": "ce40ef6b-11ee-4d2a-a043-e6b15e113bc9",
   "metadata": {},
   "source": [
    " In an attempt to control for the confounding persona, the 'block' is added as a covariate in the regression:"
   ]
  },
  {
   "cell_type": "code",
   "execution_count": 12,
   "id": "50438995-f015-42c3-b1a7-f80c3cbae8ff",
   "metadata": {
    "ExecuteTime": {
     "end_time": "2023-08-20T20:45:11.445001Z",
     "start_time": "2023-08-20T20:45:10.776418Z"
    }
   },
   "outputs": [
    {
     "data": {
      "text/html": [
       "<table class=\"simpletable\">\n",
       "<tr>\n",
       "                 <td></td>                    <th>coef</th>     <th>std err</th>      <th>t</th>      <th>P>|t|</th>  <th>[0.025</th>    <th>0.975]</th>  \n",
       "</tr>\n",
       "<tr>\n",
       "  <th>Intercept</th>                       <td>    0.1404</td> <td>    0.001</td> <td>  104.594</td> <td> 0.000</td> <td>    0.138</td> <td>    0.143</td>\n",
       "</tr>\n",
       "<tr>\n",
       "  <th>C(block)[T.public_persuadable]</th>  <td>    0.0295</td> <td>    0.002</td> <td>   17.310</td> <td> 0.000</td> <td>    0.026</td> <td>    0.033</td>\n",
       "</tr>\n",
       "<tr>\n",
       "  <th>C(block)[T.private_refractory]</th>  <td>    0.0020</td> <td>    0.002</td> <td>    1.222</td> <td> 0.222</td> <td>   -0.001</td> <td>    0.005</td>\n",
       "</tr>\n",
       "<tr>\n",
       "  <th>C(block)[T.private_persuadable]</th> <td>    0.0264</td> <td>    0.002</td> <td>   15.488</td> <td> 0.000</td> <td>    0.023</td> <td>    0.030</td>\n",
       "</tr>\n",
       "<tr>\n",
       "  <th>treatment</th>                       <td>    0.0170</td> <td>    0.001</td> <td>   13.066</td> <td> 0.000</td> <td>    0.014</td> <td>    0.019</td>\n",
       "</tr>\n",
       "</table>"
      ],
      "text/plain": [
       "<class 'statsmodels.iolib.table.SimpleTable'>"
      ]
     },
     "execution_count": 12,
     "metadata": {},
     "output_type": "execute_result"
    }
   ],
   "source": [
    "# include blocks\n",
    "regression_block = smf.ols('outcome ~ treatment + C(block)', data=uplift_data).fit()\n",
    "regression_block.summary().tables[1]"
   ]
  },
  {
   "cell_type": "markdown",
   "id": "c9f2f5db-035e-4ece-ac8f-baddbccf843c",
   "metadata": {},
   "source": [
    "This time, the regression underestimates the ATE with a value of 1.7pp and a 95% CI of [1.4, 1.9]."
   ]
  },
  {
   "cell_type": "markdown",
   "id": "0c29e143-1044-4599-9433-b2ee0a82f038",
   "metadata": {},
   "source": [
    "## Block Summary"
   ]
  },
  {
   "cell_type": "markdown",
   "id": "b5bc52f6-46e7-441e-99c0-8f86de180210",
   "metadata": {},
   "source": [
    "To see if we can recover the true 2pp ATE, we first calculate the ATE conditioned by the blocks. The get_block_summary() function was written to facilitate these calculations. The 'keep_cols' argument is used to keep information about the segment and the persona in the summary which will be useful later for group comparisons:"
   ]
  },
  {
   "cell_type": "code",
   "execution_count": 13,
   "id": "af0db689-e3ae-4404-b665-d940e4c23c1a",
   "metadata": {
    "ExecuteTime": {
     "end_time": "2023-08-20T20:45:11.609976Z",
     "start_time": "2023-08-20T20:45:11.447049Z"
    }
   },
   "outputs": [
    {
     "data": {
      "text/html": [
       "<div>\n",
       "<style scoped>\n",
       "    .dataframe tbody tr th:only-of-type {\n",
       "        vertical-align: middle;\n",
       "    }\n",
       "\n",
       "    .dataframe tbody tr th {\n",
       "        vertical-align: top;\n",
       "    }\n",
       "\n",
       "    .dataframe thead th {\n",
       "        text-align: right;\n",
       "    }\n",
       "</style>\n",
       "<table border=\"1\" class=\"dataframe\">\n",
       "  <thead>\n",
       "    <tr style=\"text-align: right;\">\n",
       "      <th></th>\n",
       "      <th>block</th>\n",
       "      <th>segment</th>\n",
       "      <th>persona</th>\n",
       "      <th>eff</th>\n",
       "      <th>treated_mean</th>\n",
       "      <th>control_mean</th>\n",
       "      <th>treated_size</th>\n",
       "      <th>control_size</th>\n",
       "      <th>block_size</th>\n",
       "      <th>treatment_proba</th>\n",
       "    </tr>\n",
       "  </thead>\n",
       "  <tbody>\n",
       "    <tr>\n",
       "      <th>0</th>\n",
       "      <td>public_refractory</td>\n",
       "      <td>public</td>\n",
       "      <td>refractory</td>\n",
       "      <td>0.0005</td>\n",
       "      <td>0.1491</td>\n",
       "      <td>0.1486</td>\n",
       "      <td>50000</td>\n",
       "      <td>50000</td>\n",
       "      <td>100000</td>\n",
       "      <td>0.5000</td>\n",
       "    </tr>\n",
       "    <tr>\n",
       "      <th>1</th>\n",
       "      <td>public_persuadable</td>\n",
       "      <td>public</td>\n",
       "      <td>persuadable</td>\n",
       "      <td>0.0397</td>\n",
       "      <td>0.1914</td>\n",
       "      <td>0.1517</td>\n",
       "      <td>80000</td>\n",
       "      <td>20000</td>\n",
       "      <td>100000</td>\n",
       "      <td>0.8000</td>\n",
       "    </tr>\n",
       "    <tr>\n",
       "      <th>2</th>\n",
       "      <td>private_refractory</td>\n",
       "      <td>private</td>\n",
       "      <td>refractory</td>\n",
       "      <td>0.0026</td>\n",
       "      <td>0.1522</td>\n",
       "      <td>0.1496</td>\n",
       "      <td>50000</td>\n",
       "      <td>50000</td>\n",
       "      <td>100000</td>\n",
       "      <td>0.5000</td>\n",
       "    </tr>\n",
       "    <tr>\n",
       "      <th>3</th>\n",
       "      <td>private_persuadable</td>\n",
       "      <td>private</td>\n",
       "      <td>persuadable</td>\n",
       "      <td>0.0424</td>\n",
       "      <td>0.1889</td>\n",
       "      <td>0.1465</td>\n",
       "      <td>80000</td>\n",
       "      <td>20000</td>\n",
       "      <td>100000</td>\n",
       "      <td>0.8000</td>\n",
       "    </tr>\n",
       "  </tbody>\n",
       "</table>\n",
       "</div>"
      ],
      "text/plain": [
       "                 block  segment      persona    eff  treated_mean  \\\n",
       "0    public_refractory   public   refractory 0.0005        0.1491   \n",
       "1   public_persuadable   public  persuadable 0.0397        0.1914   \n",
       "2   private_refractory  private   refractory 0.0026        0.1522   \n",
       "3  private_persuadable  private  persuadable 0.0424        0.1889   \n",
       "\n",
       "   control_mean  treated_size  control_size  block_size  treatment_proba  \n",
       "0        0.1486         50000         50000      100000           0.5000  \n",
       "1        0.1517         80000         20000      100000           0.8000  \n",
       "2        0.1496         50000         50000      100000           0.5000  \n",
       "3        0.1465         80000         20000      100000           0.8000  "
      ]
     },
     "execution_count": 13,
     "metadata": {},
     "output_type": "execute_result"
    }
   ],
   "source": [
    "block_summary(uplift_data, keep_cols=['segment', 'persona'])"
   ]
  },
  {
   "cell_type": "markdown",
   "id": "41e4b495-e5c2-4ff7-8733-d590d3f09960",
   "metadata": {},
   "source": [
    "We can see from the 'eff' column that the ATEs are close to 4pp in the 2 Persuadable blocks and close to 0pp in the Refractory ones. The 4 blocks have the same size (100,000) and the treatment probability is higher in the Persuadable blocks (80% vs 50%). Thus, the summary matches the parameters used for the simulation (see Figure above)."
   ]
  },
  {
   "cell_type": "markdown",
   "id": "2c1e975e-a2f0-49b7-897d-74cac35afdbb",
   "metadata": {},
   "source": [
    "## Weighted Average Treatment Effect"
   ]
  },
  {
   "cell_type": "markdown",
   "id": "6b330fa2-5e1e-4aa0-90bd-a4a0a67af897",
   "metadata": {},
   "source": [
    "The overall treatment effect we are looking for is the weighted average between the Persuadable and Refractory ATEs (4pp and 0pp). In our case, it is simply the average (2pp) because the blocks were given equal size to simplify the example. To estimate the Weighted ATE we wrote a function that takes the campaign data as input. By default, the function uses the block sizes as the weights:"
   ]
  },
  {
   "cell_type": "code",
   "execution_count": 14,
   "id": "baf1fb94-1282-42d7-a822-ca85fab389a3",
   "metadata": {
    "ExecuteTime": {
     "end_time": "2023-08-20T20:45:11.666215Z",
     "start_time": "2023-08-20T20:45:11.612300Z"
    },
    "scrolled": true
   },
   "outputs": [
    {
     "data": {
      "text/html": [
       "<div>\n",
       "<style scoped>\n",
       "    .dataframe tbody tr th:only-of-type {\n",
       "        vertical-align: middle;\n",
       "    }\n",
       "\n",
       "    .dataframe tbody tr th {\n",
       "        vertical-align: top;\n",
       "    }\n",
       "\n",
       "    .dataframe thead th {\n",
       "        text-align: right;\n",
       "    }\n",
       "</style>\n",
       "<table border=\"1\" class=\"dataframe\">\n",
       "  <thead>\n",
       "    <tr style=\"text-align: right;\">\n",
       "      <th></th>\n",
       "      <th>group</th>\n",
       "      <th>eff</th>\n",
       "      <th>treated_mean</th>\n",
       "      <th>control_mean</th>\n",
       "      <th>treated_size</th>\n",
       "      <th>control_size</th>\n",
       "      <th>group_size</th>\n",
       "      <th>eff_se</th>\n",
       "      <th>z</th>\n",
       "      <th>p_value</th>\n",
       "      <th>ci_low</th>\n",
       "      <th>ci_upp</th>\n",
       "      <th>incremental</th>\n",
       "    </tr>\n",
       "  </thead>\n",
       "  <tbody>\n",
       "    <tr>\n",
       "      <th>0</th>\n",
       "      <td>all</td>\n",
       "      <td>0.0213</td>\n",
       "      <td>0.1704</td>\n",
       "      <td>0.1491</td>\n",
       "      <td>260000</td>\n",
       "      <td>140000</td>\n",
       "      <td>400000</td>\n",
       "      <td>0.0013</td>\n",
       "      <td>16.4690</td>\n",
       "      <td>0.0000</td>\n",
       "      <td>0.0188</td>\n",
       "      <td>0.0238</td>\n",
       "      <td>8515.0000</td>\n",
       "    </tr>\n",
       "  </tbody>\n",
       "</table>\n",
       "</div>"
      ],
      "text/plain": [
       "  group    eff  treated_mean  control_mean  treated_size  control_size  \\\n",
       "0   all 0.0213        0.1704        0.1491        260000        140000   \n",
       "\n",
       "   group_size  eff_se       z  p_value  ci_low  ci_upp  incremental  \n",
       "0      400000  0.0013 16.4690   0.0000  0.0188  0.0238    8515.0000  "
      ]
     },
     "execution_count": 14,
     "metadata": {},
     "output_type": "execute_result"
    }
   ],
   "source": [
    "weighted_avg_test(uplift_data)"
   ]
  },
  {
   "cell_type": "markdown",
   "id": "c2037731-f91d-40cb-8b63-a67f1806e40d",
   "metadata": {},
   "source": [
    "The estimated ATE in the 'eff' column is 2.13pp with a CI of [1.88, 2.38]. This time the CI includes the true underlying 2pp ATE. This confirms that the result of the weighted average approach is valid. The output also shows 8,515 'incremental' conversions which are obtained by multiplying the 'eff' by the 'group size'."
   ]
  },
  {
   "cell_type": "markdown",
   "id": "1c569b87-51cd-495f-bd03-d3168d520f76",
   "metadata": {
    "ExecuteTime": {
     "end_time": "2023-08-20T19:26:04.452732Z",
     "start_time": "2023-08-20T19:26:04.446382Z"
    }
   },
   "source": [
    "The group_by argument can be specified to calculate the Weighted ATE for groups of blocks. In this example, blocks are grouped by persona:"
   ]
  },
  {
   "cell_type": "code",
   "execution_count": 15,
   "id": "64bd091d-6d08-4339-827a-37b782fd2e07",
   "metadata": {
    "ExecuteTime": {
     "end_time": "2023-08-20T20:45:11.723494Z",
     "start_time": "2023-08-20T20:45:11.668074Z"
    },
    "scrolled": true
   },
   "outputs": [
    {
     "data": {
      "text/html": [
       "<div>\n",
       "<style scoped>\n",
       "    .dataframe tbody tr th:only-of-type {\n",
       "        vertical-align: middle;\n",
       "    }\n",
       "\n",
       "    .dataframe tbody tr th {\n",
       "        vertical-align: top;\n",
       "    }\n",
       "\n",
       "    .dataframe thead th {\n",
       "        text-align: right;\n",
       "    }\n",
       "</style>\n",
       "<table border=\"1\" class=\"dataframe\">\n",
       "  <thead>\n",
       "    <tr style=\"text-align: right;\">\n",
       "      <th></th>\n",
       "      <th>persona</th>\n",
       "      <th>eff</th>\n",
       "      <th>treated_mean</th>\n",
       "      <th>control_mean</th>\n",
       "      <th>treated_size</th>\n",
       "      <th>control_size</th>\n",
       "      <th>group_size</th>\n",
       "      <th>eff_se</th>\n",
       "      <th>z</th>\n",
       "      <th>p_value</th>\n",
       "      <th>ci_low</th>\n",
       "      <th>ci_upp</th>\n",
       "      <th>incremental</th>\n",
       "    </tr>\n",
       "  </thead>\n",
       "  <tbody>\n",
       "    <tr>\n",
       "      <th>0</th>\n",
       "      <td>refractory</td>\n",
       "      <td>0.0015</td>\n",
       "      <td>0.1507</td>\n",
       "      <td>0.1491</td>\n",
       "      <td>100000</td>\n",
       "      <td>100000</td>\n",
       "      <td>200000</td>\n",
       "      <td>0.0016</td>\n",
       "      <td>0.9710</td>\n",
       "      <td>0.3316</td>\n",
       "      <td>-0.0016</td>\n",
       "      <td>0.0047</td>\n",
       "      <td>310.0000</td>\n",
       "    </tr>\n",
       "    <tr>\n",
       "      <th>1</th>\n",
       "      <td>persuadable</td>\n",
       "      <td>0.0410</td>\n",
       "      <td>0.1901</td>\n",
       "      <td>0.1491</td>\n",
       "      <td>160000</td>\n",
       "      <td>40000</td>\n",
       "      <td>200000</td>\n",
       "      <td>0.0020</td>\n",
       "      <td>20.1758</td>\n",
       "      <td>0.0000</td>\n",
       "      <td>0.0370</td>\n",
       "      <td>0.0450</td>\n",
       "      <td>8205.0000</td>\n",
       "    </tr>\n",
       "  </tbody>\n",
       "</table>\n",
       "</div>"
      ],
      "text/plain": [
       "       persona    eff  treated_mean  control_mean  treated_size  control_size  \\\n",
       "0   refractory 0.0015        0.1507        0.1491        100000        100000   \n",
       "1  persuadable 0.0410        0.1901        0.1491        160000         40000   \n",
       "\n",
       "   group_size  eff_se       z  p_value  ci_low  ci_upp  incremental  \n",
       "0      200000  0.0016  0.9710   0.3316 -0.0016  0.0047     310.0000  \n",
       "1      200000  0.0020 20.1758   0.0000  0.0370  0.0450    8205.0000  "
      ]
     },
     "execution_count": 15,
     "metadata": {},
     "output_type": "execute_result"
    }
   ],
   "source": [
    "weighted_avg_test(uplift_data, group_by=['persona'])"
   ]
  },
  {
   "cell_type": "markdown",
   "id": "b98f03cf-2a83-44f4-aa76-1e7948dd025f",
   "metadata": {},
   "source": [
    "For the Refractory persona, the Weighted ATE is 0.15pp with a 95% CI of [-0.16, 0.47] which includes the true underlying value of 0. For the Persuadable persona, it is 4.10pp with a 95% CI of [3.70, 4.50] which include the true underlying value of 4pp."
   ]
  },
  {
   "cell_type": "markdown",
   "id": "919597fe-63e9-41cb-b815-d44bcfb0b0ba",
   "metadata": {},
   "source": [
    "## Comparing Effects Between Groups"
   ]
  },
  {
   "cell_type": "markdown",
   "id": "9a0a247c-cf3e-40fc-bdec-0f3c43429a0c",
   "metadata": {},
   "source": [
    "The last results showed how to calculate the treatment effect after pooling blocks into groups. We now show how to compare the treatment effect between groups of blocks, for example Persuadable vs Refractory blocks. The function comparison_test() with the argument compare_along='persona' calculates the Weighted ATE difference between the Persuadable and Refractory blocks:"
   ]
  },
  {
   "cell_type": "code",
   "execution_count": 16,
   "id": "ee37ed2c-1a49-4de3-8413-764cd95ed9c1",
   "metadata": {
    "ExecuteTime": {
     "end_time": "2023-08-20T20:45:11.774229Z",
     "start_time": "2023-08-20T20:45:11.725099Z"
    },
    "scrolled": true
   },
   "outputs": [
    {
     "data": {
      "text/html": [
       "<div>\n",
       "<style scoped>\n",
       "    .dataframe tbody tr th:only-of-type {\n",
       "        vertical-align: middle;\n",
       "    }\n",
       "\n",
       "    .dataframe tbody tr th {\n",
       "        vertical-align: top;\n",
       "    }\n",
       "\n",
       "    .dataframe thead th {\n",
       "        text-align: right;\n",
       "    }\n",
       "</style>\n",
       "<table border=\"1\" class=\"dataframe\">\n",
       "  <thead>\n",
       "    <tr style=\"text-align: right;\">\n",
       "      <th></th>\n",
       "      <th>eff_delta</th>\n",
       "      <th>variant_grp</th>\n",
       "      <th>reference_grp</th>\n",
       "      <th>variant_size</th>\n",
       "      <th>reference_size</th>\n",
       "      <th>eff_se</th>\n",
       "      <th>z</th>\n",
       "      <th>p_value</th>\n",
       "      <th>ci_low</th>\n",
       "      <th>ci_upp</th>\n",
       "    </tr>\n",
       "  </thead>\n",
       "  <tbody>\n",
       "    <tr>\n",
       "      <th>0</th>\n",
       "      <td>0.0395</td>\n",
       "      <td>persuadable</td>\n",
       "      <td>refractory</td>\n",
       "      <td>200000</td>\n",
       "      <td>200000</td>\n",
       "      <td>0.0026</td>\n",
       "      <td>15.2699</td>\n",
       "      <td>0.0000</td>\n",
       "      <td>0.0344</td>\n",
       "      <td>0.0445</td>\n",
       "    </tr>\n",
       "  </tbody>\n",
       "</table>\n",
       "</div>"
      ],
      "text/plain": [
       "   eff_delta  variant_grp reference_grp  variant_size  reference_size  eff_se  \\\n",
       "0     0.0395  persuadable    refractory        200000          200000  0.0026   \n",
       "\n",
       "        z  p_value  ci_low  ci_upp  \n",
       "0 15.2699   0.0000  0.0344  0.0445  "
      ]
     },
     "execution_count": 16,
     "metadata": {},
     "output_type": "execute_result"
    }
   ],
   "source": [
    "comparison_test(uplift_data, compare_along='persona')"
   ]
  },
  {
   "cell_type": "markdown",
   "id": "e3ed9fa2-4fc1-4a65-90a7-c326956e950e",
   "metadata": {},
   "source": [
    "The result shows a difference of 3.95pp ('eff_delta') with a 95% CI of [3.44pp, 4.45pp]. This CI includes the expected difference of 4pp. Overall using the Weighted ATE allows data scientists to compare the treatment effect between any blocks or any group of blocks."
   ]
  },
  {
   "cell_type": "markdown",
   "id": "322ccc82-7e49-490d-b8a2-d349ca28d08b",
   "metadata": {},
   "source": [
    "## Bootstrapping and Permutation Tests"
   ]
  },
  {
   "cell_type": "markdown",
   "id": "6e167e3d-cd4b-4125-a975-6a22de0bd968",
   "metadata": {},
   "source": [
    "For campaigns with small sample size (n < 30 for the Treated or Control groups within blocks), skewed outcomes, and/or outliers, we provide functions to bootstrap the Weighted ATE and do a permutation test. In this example, the campaign data is resampled 2,000 times and blocks are grouped by personas to get the Persuadable and Refractory treatment effects (this cell takes a few minutes to run):"
   ]
  },
  {
   "cell_type": "code",
   "execution_count": 17,
   "id": "868328ef-f015-4958-a39f-9a89e6836cda",
   "metadata": {
    "ExecuteTime": {
     "end_time": "2023-08-20T20:48:39.219643Z",
     "start_time": "2023-08-20T20:45:11.776999Z"
    }
   },
   "outputs": [
    {
     "data": {
      "text/html": [
       "<div>\n",
       "<style scoped>\n",
       "    .dataframe tbody tr th:only-of-type {\n",
       "        vertical-align: middle;\n",
       "    }\n",
       "\n",
       "    .dataframe tbody tr th {\n",
       "        vertical-align: top;\n",
       "    }\n",
       "\n",
       "    .dataframe thead th {\n",
       "        text-align: right;\n",
       "    }\n",
       "</style>\n",
       "<table border=\"1\" class=\"dataframe\">\n",
       "  <thead>\n",
       "    <tr style=\"text-align: right;\">\n",
       "      <th></th>\n",
       "      <th>eff</th>\n",
       "      <th>ci_low</th>\n",
       "      <th>ci_upp</th>\n",
       "      <th>p_value</th>\n",
       "    </tr>\n",
       "    <tr>\n",
       "      <th>persona</th>\n",
       "      <th></th>\n",
       "      <th></th>\n",
       "      <th></th>\n",
       "      <th></th>\n",
       "    </tr>\n",
       "  </thead>\n",
       "  <tbody>\n",
       "    <tr>\n",
       "      <th>refractory</th>\n",
       "      <td>0.0015</td>\n",
       "      <td>-0.0016</td>\n",
       "      <td>0.0046</td>\n",
       "      <td>0.3280</td>\n",
       "    </tr>\n",
       "    <tr>\n",
       "      <th>persuadable</th>\n",
       "      <td>0.0410</td>\n",
       "      <td>0.0371</td>\n",
       "      <td>0.0448</td>\n",
       "      <td>0.0000</td>\n",
       "    </tr>\n",
       "  </tbody>\n",
       "</table>\n",
       "</div>"
      ],
      "text/plain": [
       "               eff  ci_low  ci_upp  p_value\n",
       "persona                                    \n",
       "refractory  0.0015 -0.0016  0.0046   0.3280\n",
       "persuadable 0.0410  0.0371  0.0448   0.0000"
      ]
     },
     "execution_count": 17,
     "metadata": {},
     "output_type": "execute_result"
    }
   ],
   "source": [
    "# weighted average treatment effect\n",
    "weighted_avg_bootstrap(uplift_data, group_by=['persona'], n_bootstrap=2000)"
   ]
  },
  {
   "cell_type": "markdown",
   "id": "c0c2c9ac-4ed2-4b58-aa3b-9b0ea7c444e9",
   "metadata": {},
   "source": [
    "The estimates and confidence intervals are very close to the results of the weighted_average_test() function that calculates CI and p-value with mathematical formulas."
   ]
  },
  {
   "cell_type": "markdown",
   "id": "1cabd8c7-9fd2-4b1a-b7d5-c37189859ca8",
   "metadata": {},
   "source": [
    "Bootstrapping can also be used to compare group of blocks (this cell takes a few minutes to run):"
   ]
  },
  {
   "cell_type": "code",
   "execution_count": 18,
   "id": "4ceb5c27-262e-4fc8-a2d0-cc0fe9c029a9",
   "metadata": {
    "ExecuteTime": {
     "end_time": "2023-08-20T20:52:13.434704Z",
     "start_time": "2023-08-20T20:48:39.222520Z"
    }
   },
   "outputs": [
    {
     "data": {
      "text/html": [
       "<div>\n",
       "<style scoped>\n",
       "    .dataframe tbody tr th:only-of-type {\n",
       "        vertical-align: middle;\n",
       "    }\n",
       "\n",
       "    .dataframe tbody tr th {\n",
       "        vertical-align: top;\n",
       "    }\n",
       "\n",
       "    .dataframe thead th {\n",
       "        text-align: right;\n",
       "    }\n",
       "</style>\n",
       "<table border=\"1\" class=\"dataframe\">\n",
       "  <thead>\n",
       "    <tr style=\"text-align: right;\">\n",
       "      <th></th>\n",
       "      <th>eff_delta</th>\n",
       "      <th>variant_grp</th>\n",
       "      <th>reference_grp</th>\n",
       "      <th>p_value</th>\n",
       "      <th>ci_low</th>\n",
       "      <th>ci_upp</th>\n",
       "    </tr>\n",
       "  </thead>\n",
       "  <tbody>\n",
       "    <tr>\n",
       "      <th>0</th>\n",
       "      <td>0.0395</td>\n",
       "      <td>persuadable</td>\n",
       "      <td>refractory</td>\n",
       "      <td>0.0000</td>\n",
       "      <td>0.0347</td>\n",
       "      <td>0.0445</td>\n",
       "    </tr>\n",
       "  </tbody>\n",
       "</table>\n",
       "</div>"
      ],
      "text/plain": [
       "   eff_delta  variant_grp reference_grp  p_value  ci_low  ci_upp\n",
       "0     0.0395  persuadable    refractory   0.0000  0.0347  0.0445"
      ]
     },
     "execution_count": 18,
     "metadata": {},
     "output_type": "execute_result"
    }
   ],
   "source": [
    "# group comparison\n",
    "comparison_bootstrap(uplift_data, compare_along='persona', n_bootstrap=2000)"
   ]
  },
  {
   "cell_type": "markdown",
   "id": "03168478-ef15-4bf5-9725-ef67526f2f0f",
   "metadata": {},
   "source": [
    "Results are very close to the output of comparison_test(). For small sample size and/or skewed outcome distribution the results might differ, and it is recommended to use the bootstrapping functions."
   ]
  },
  {
   "cell_type": "markdown",
   "id": "210617a2-adfb-4789-a9fb-e3ea4df04f15",
   "metadata": {},
   "source": [
    "## Using Other Weights"
   ]
  },
  {
   "cell_type": "markdown",
   "id": "f5614e62-bf8b-48f4-8b63-bb4b0b5f36ec",
   "metadata": {},
   "source": [
    "Because in reality the control group was not exposed to the treatment, another option is to calculate the conversations for the treatment group only. In this case, the ATE is multiplied by the Treated group size instead of the block size to get the incremental conversions. When calculating the Weighted ATE, the Treated group sizes are used as weights instead of the block sizes. This can be done by setting use_treated_weights=True in the weighted_average_test() function:"
   ]
  },
  {
   "cell_type": "code",
   "execution_count": 19,
   "id": "cf717459-1b74-43c1-a5f9-3112d1ba86e4",
   "metadata": {
    "ExecuteTime": {
     "end_time": "2023-08-20T20:52:13.490399Z",
     "start_time": "2023-08-20T20:52:13.436686Z"
    },
    "scrolled": true
   },
   "outputs": [
    {
     "data": {
      "text/html": [
       "<div>\n",
       "<style scoped>\n",
       "    .dataframe tbody tr th:only-of-type {\n",
       "        vertical-align: middle;\n",
       "    }\n",
       "\n",
       "    .dataframe tbody tr th {\n",
       "        vertical-align: top;\n",
       "    }\n",
       "\n",
       "    .dataframe thead th {\n",
       "        text-align: right;\n",
       "    }\n",
       "</style>\n",
       "<table border=\"1\" class=\"dataframe\">\n",
       "  <thead>\n",
       "    <tr style=\"text-align: right;\">\n",
       "      <th></th>\n",
       "      <th>group</th>\n",
       "      <th>eff</th>\n",
       "      <th>treated_mean</th>\n",
       "      <th>control_mean</th>\n",
       "      <th>treated_size</th>\n",
       "      <th>control_size</th>\n",
       "      <th>group_size</th>\n",
       "      <th>eff_se</th>\n",
       "      <th>z</th>\n",
       "      <th>p_value</th>\n",
       "      <th>ci_low</th>\n",
       "      <th>ci_upp</th>\n",
       "      <th>incremental</th>\n",
       "    </tr>\n",
       "  </thead>\n",
       "  <tbody>\n",
       "    <tr>\n",
       "      <th>0</th>\n",
       "      <td>all</td>\n",
       "      <td>0.0258</td>\n",
       "      <td>0.1750</td>\n",
       "      <td>0.1491</td>\n",
       "      <td>260000</td>\n",
       "      <td>140000</td>\n",
       "      <td>400000</td>\n",
       "      <td>0.0014</td>\n",
       "      <td>18.5405</td>\n",
       "      <td>0.0000</td>\n",
       "      <td>0.0231</td>\n",
       "      <td>0.0286</td>\n",
       "      <td>6719.0000</td>\n",
       "    </tr>\n",
       "  </tbody>\n",
       "</table>\n",
       "</div>"
      ],
      "text/plain": [
       "  group    eff  treated_mean  control_mean  treated_size  control_size  \\\n",
       "0   all 0.0258        0.1750        0.1491        260000        140000   \n",
       "\n",
       "   group_size  eff_se       z  p_value  ci_low  ci_upp  incremental  \n",
       "0      400000  0.0014 18.5405   0.0000  0.0231  0.0286    6719.0000  "
      ]
     },
     "execution_count": 19,
     "metadata": {},
     "output_type": "execute_result"
    }
   ],
   "source": [
    "weighted_avg_test(uplift_data, use_treated_weights=True)"
   ]
  },
  {
   "cell_type": "markdown",
   "id": "a1828ac8-c95b-4798-a7f8-853baa87ed31",
   "metadata": {},
   "source": [
    "The treatment effect is now 2.58pp compared to 2.13pp previously. The incremental conversions changed is now 6,719 compared to 8,515 previously (see section 'Weighted Average Treatment Effect'). The incremental number is much smaller because the treatment effect is multiplied by the Treated group instead of the block size (Treated + Control). The use_treated_weights option can also be set for the comparison_test() and bootstrap functions."
   ]
  },
  {
   "cell_type": "markdown",
   "id": "20ba47b9-ede5-436a-b559-5e0d45e8e4a9",
   "metadata": {},
   "source": [
    "# Addressing the Simpson’s Paradox"
   ]
  },
  {
   "cell_type": "markdown",
   "id": "eacdf673-0ecb-454b-ba0d-e77bef8aa388",
   "metadata": {},
   "source": [
    "In this example, a marketing team runs a survey and asks a random sample of men and women to say if they like a flavored drink or not (binary outcome). In the control group, participants are asked to taste a Passionate Peach drink. In the treatment group, they are asked to taste a Sinful Strawberry drink. The design of the survey is similar to a randomized block design:"
   ]
  },
  {
   "cell_type": "markdown",
   "id": "2a2e63a3-4292-49c8-a3e3-09312816095c",
   "metadata": {},
   "source": [
    "![MarketingDesign.PNG](figures/MarketingDesign.PNG)"
   ]
  },
  {
   "cell_type": "markdown",
   "id": "e96dd787-a1bc-4b59-b259-0d8d3fed1173",
   "metadata": {},
   "source": [
    "In this design, men have a higher probability to be assigned to the treatment group (56%) compared to women (25%). Thus, the block (gender) will act as a confounder. We first recreate the design in the figure above and generate random outcomes:"
   ]
  },
  {
   "cell_type": "code",
   "execution_count": 20,
   "id": "893fd331-6c4f-485a-b124-1f377ebe4a84",
   "metadata": {
    "ExecuteTime": {
     "end_time": "2023-08-20T20:52:13.499384Z",
     "start_time": "2023-08-20T20:52:13.492562Z"
    },
    "scrolled": true
   },
   "outputs": [],
   "source": [
    "# simulate the data\n",
    "marketing_data = campaign_simulation(blocks = ['men', 'women'], block_sizes = [1600,  400],\n",
    "        treatment_probas = [900/1600,  100/400],\n",
    "        control_means = [600/700, 150/300], treated_means = [760/900, 40/100])"
   ]
  },
  {
   "cell_type": "markdown",
   "id": "686f2236-7cfd-4fa0-8fd6-33a3ef0acf96",
   "metadata": {},
   "source": [
    "The design is then summarized by block:"
   ]
  },
  {
   "cell_type": "code",
   "execution_count": 21,
   "id": "1ef0de78-a549-4e89-870a-1da7f13dcf2e",
   "metadata": {
    "ExecuteTime": {
     "end_time": "2023-08-20T20:52:13.524510Z",
     "start_time": "2023-08-20T20:52:13.500655Z"
    },
    "code_folding": [],
    "scrolled": true
   },
   "outputs": [
    {
     "data": {
      "text/html": [
       "<div>\n",
       "<style scoped>\n",
       "    .dataframe tbody tr th:only-of-type {\n",
       "        vertical-align: middle;\n",
       "    }\n",
       "\n",
       "    .dataframe tbody tr th {\n",
       "        vertical-align: top;\n",
       "    }\n",
       "\n",
       "    .dataframe thead th {\n",
       "        text-align: right;\n",
       "    }\n",
       "</style>\n",
       "<table border=\"1\" class=\"dataframe\">\n",
       "  <thead>\n",
       "    <tr style=\"text-align: right;\">\n",
       "      <th></th>\n",
       "      <th>block</th>\n",
       "      <th>eff</th>\n",
       "      <th>treated_mean</th>\n",
       "      <th>control_mean</th>\n",
       "      <th>treated_size</th>\n",
       "      <th>control_size</th>\n",
       "      <th>block_size</th>\n",
       "      <th>treatment_proba</th>\n",
       "    </tr>\n",
       "  </thead>\n",
       "  <tbody>\n",
       "    <tr>\n",
       "      <th>0</th>\n",
       "      <td>men</td>\n",
       "      <td>-0.0025</td>\n",
       "      <td>0.8389</td>\n",
       "      <td>0.8414</td>\n",
       "      <td>900</td>\n",
       "      <td>700</td>\n",
       "      <td>1600</td>\n",
       "      <td>0.5625</td>\n",
       "    </tr>\n",
       "    <tr>\n",
       "      <th>1</th>\n",
       "      <td>women</td>\n",
       "      <td>-0.0933</td>\n",
       "      <td>0.4100</td>\n",
       "      <td>0.5033</td>\n",
       "      <td>100</td>\n",
       "      <td>300</td>\n",
       "      <td>400</td>\n",
       "      <td>0.2500</td>\n",
       "    </tr>\n",
       "  </tbody>\n",
       "</table>\n",
       "</div>"
      ],
      "text/plain": [
       "   block     eff  treated_mean  control_mean  treated_size  control_size  \\\n",
       "0    men -0.0025        0.8389        0.8414           900           700   \n",
       "1  women -0.0933        0.4100        0.5033           100           300   \n",
       "\n",
       "   block_size  treatment_proba  \n",
       "0        1600           0.5625  \n",
       "1         400           0.2500  "
      ]
     },
     "execution_count": 21,
     "metadata": {},
     "output_type": "execute_result"
    }
   ],
   "source": [
    "# summarizing the results\n",
    "block_summary(marketing_data)"
   ]
  },
  {
   "cell_type": "markdown",
   "id": "a9f052cf-2246-408a-8b08-e4d6a7f3c4eb",
   "metadata": {},
   "source": [
    "We can see that for both men and women the ATEs ('eff' column) are negative (-0.25pp and -9.33pp), meaning that participants give more favorable answers to the Peach flavor. Now we calculate the treatment effect with a regression and ignore gender:"
   ]
  },
  {
   "cell_type": "code",
   "execution_count": 22,
   "id": "8cad5bbf-f9cb-4dc0-8b4c-04e3bd702a45",
   "metadata": {
    "ExecuteTime": {
     "end_time": "2023-08-20T20:52:13.540133Z",
     "start_time": "2023-08-20T20:52:13.525758Z"
    }
   },
   "outputs": [
    {
     "data": {
      "text/html": [
       "<table class=\"simpletable\">\n",
       "<tr>\n",
       "      <td></td>         <th>coef</th>     <th>std err</th>      <th>t</th>      <th>P>|t|</th>  <th>[0.025</th>    <th>0.975]</th>  \n",
       "</tr>\n",
       "<tr>\n",
       "  <th>Intercept</th> <td>    0.7400</td> <td>    0.013</td> <td>   55.533</td> <td> 0.000</td> <td>    0.714</td> <td>    0.766</td>\n",
       "</tr>\n",
       "<tr>\n",
       "  <th>treatment</th> <td>    0.0560</td> <td>    0.019</td> <td>    2.972</td> <td> 0.003</td> <td>    0.019</td> <td>    0.093</td>\n",
       "</tr>\n",
       "</table>"
      ],
      "text/plain": [
       "<class 'statsmodels.iolib.table.SimpleTable'>"
      ]
     },
     "execution_count": 22,
     "metadata": {},
     "output_type": "execute_result"
    }
   ],
   "source": [
    "# regression analysis\n",
    "marketing_regression = smf.ols('outcome ~ treatment', data=marketing_data).fit()\n",
    "marketing_regression.summary().tables[1]"
   ]
  },
  {
   "cell_type": "markdown",
   "id": "09ea0862-2ade-47ed-8bd5-bd8a77031fe5",
   "metadata": {},
   "source": [
    "The results show an overall positive ATE (+5.60pp) which contradicts the negative effects found within the blocks. The code below calculates the Weighted ATE:"
   ]
  },
  {
   "cell_type": "code",
   "execution_count": 23,
   "id": "6a2e43f8-aec0-494f-9ad4-0283f115f16e",
   "metadata": {
    "ExecuteTime": {
     "end_time": "2023-08-20T20:52:13.572406Z",
     "start_time": "2023-08-20T20:52:13.541429Z"
    }
   },
   "outputs": [
    {
     "data": {
      "text/html": [
       "<div>\n",
       "<style scoped>\n",
       "    .dataframe tbody tr th:only-of-type {\n",
       "        vertical-align: middle;\n",
       "    }\n",
       "\n",
       "    .dataframe tbody tr th {\n",
       "        vertical-align: top;\n",
       "    }\n",
       "\n",
       "    .dataframe thead th {\n",
       "        text-align: right;\n",
       "    }\n",
       "</style>\n",
       "<table border=\"1\" class=\"dataframe\">\n",
       "  <thead>\n",
       "    <tr style=\"text-align: right;\">\n",
       "      <th></th>\n",
       "      <th>group</th>\n",
       "      <th>eff</th>\n",
       "      <th>treated_mean</th>\n",
       "      <th>control_mean</th>\n",
       "      <th>treated_size</th>\n",
       "      <th>control_size</th>\n",
       "      <th>group_size</th>\n",
       "      <th>eff_se</th>\n",
       "      <th>z</th>\n",
       "      <th>p_value</th>\n",
       "      <th>ci_low</th>\n",
       "      <th>ci_upp</th>\n",
       "      <th>incremental</th>\n",
       "    </tr>\n",
       "  </thead>\n",
       "  <tbody>\n",
       "    <tr>\n",
       "      <th>0</th>\n",
       "      <td>all</td>\n",
       "      <td>-0.0207</td>\n",
       "      <td>0.7531</td>\n",
       "      <td>0.7738</td>\n",
       "      <td>1000</td>\n",
       "      <td>1000</td>\n",
       "      <td>2000</td>\n",
       "      <td>0.0187</td>\n",
       "      <td>-1.1071</td>\n",
       "      <td>0.2683</td>\n",
       "      <td>-0.0573</td>\n",
       "      <td>0.0159</td>\n",
       "      <td>-41.3968</td>\n",
       "    </tr>\n",
       "  </tbody>\n",
       "</table>\n",
       "</div>"
      ],
      "text/plain": [
       "  group     eff  treated_mean  control_mean  treated_size  control_size  \\\n",
       "0   all -0.0207        0.7531        0.7738          1000          1000   \n",
       "\n",
       "   group_size  eff_se       z  p_value  ci_low  ci_upp  incremental  \n",
       "0        2000  0.0187 -1.1071   0.2683 -0.0573  0.0159     -41.3968  "
      ]
     },
     "execution_count": 23,
     "metadata": {},
     "output_type": "execute_result"
    }
   ],
   "source": [
    "# using the Weighted Average Approach\n",
    "weighted_avg_test(marketing_data)"
   ]
  },
  {
   "cell_type": "markdown",
   "id": "2b64ce81-d104-4083-861b-967e3a67af28",
   "metadata": {},
   "source": [
    "The Weighted ATE is -2.07pp, a result in line with the negative effects found separately in men and women. This example shows how the Weighted ATE can resolve Simpson's paradox."
   ]
  },
  {
   "cell_type": "markdown",
   "id": "f00add23-e874-4b56-935d-976f3436329b",
   "metadata": {},
   "source": [
    "# Other Evaluation Strategies"
   ]
  },
  {
   "cell_type": "markdown",
   "id": "e0548c17-b219-4ced-a7ab-c2d41e5f8f12",
   "metadata": {},
   "source": [
    "## Regression With Interaction Effect"
   ]
  },
  {
   "cell_type": "markdown",
   "id": "2719da60-175e-4938-bf5b-8e17be8b3705",
   "metadata": {},
   "source": [
    "Another approach to compare the treatment effect between blocks is to fit a regression with interactions between the treatment indicator and the blocks:"
   ]
  },
  {
   "cell_type": "code",
   "execution_count": 24,
   "id": "bd920b3d-452a-4bd1-8b74-4369af24dd3d",
   "metadata": {
    "ExecuteTime": {
     "end_time": "2023-08-20T20:52:13.695862Z",
     "start_time": "2023-08-20T20:52:13.573784Z"
    },
    "scrolled": true
   },
   "outputs": [
    {
     "data": {
      "text/html": [
       "<table class=\"simpletable\">\n",
       "<tr>\n",
       "                  <td></td>                    <th>coef</th>     <th>std err</th>      <th>t</th>      <th>P>|t|</th>  <th>[0.025</th>    <th>0.975]</th>  \n",
       "</tr>\n",
       "<tr>\n",
       "  <th>Intercept</th>                        <td>    0.1491</td> <td>    0.001</td> <td>  126.932</td> <td> 0.000</td> <td>    0.147</td> <td>    0.151</td>\n",
       "</tr>\n",
       "<tr>\n",
       "  <th>persona[T.persuadable]</th>           <td>   1.5e-05</td> <td>    0.002</td> <td>    0.007</td> <td> 0.995</td> <td>   -0.004</td> <td>    0.004</td>\n",
       "</tr>\n",
       "<tr>\n",
       "  <th>treatment</th>                        <td>    0.0015</td> <td>    0.002</td> <td>    0.933</td> <td> 0.351</td> <td>   -0.002</td> <td>    0.005</td>\n",
       "</tr>\n",
       "<tr>\n",
       "  <th>treatment:persona[T.persuadable]</th> <td>    0.0395</td> <td>    0.003</td> <td>   14.844</td> <td> 0.000</td> <td>    0.034</td> <td>    0.045</td>\n",
       "</tr>\n",
       "</table>"
      ],
      "text/plain": [
       "<class 'statsmodels.iolib.table.SimpleTable'>"
      ]
     },
     "execution_count": 24,
     "metadata": {},
     "output_type": "execute_result"
    }
   ],
   "source": [
    "# including interaction effect\n",
    "regression_interact = smf.ols('outcome ~ treatment * persona', data=uplift_data).fit()\n",
    "regression_interact.summary().tables[1]"
   ]
  },
  {
   "cell_type": "markdown",
   "id": "b377d47b-f342-4b30-8b7c-9228e815d539",
   "metadata": {},
   "source": [
    "The ATE delta of 3.95pp with a 95% CI of [3.4pp, 4.5pp] is the same as the values found with the Weighted ATE approach (see section 'Comparing Effects Between Groups'). While regressions with interaction effects are helpful to compare groups, they don't directly provide the overall treatment effect. The Weighted ATE approach does provide the within groups, between groups, and overall treatment effects."
   ]
  },
  {
   "cell_type": "markdown",
   "id": "c1b8a5eb-ec6e-4cff-9b55-573769455877",
   "metadata": {},
   "source": [
    "## Mixed Effect Regression"
   ]
  },
  {
   "cell_type": "markdown",
   "id": "9e26878c-2565-4be9-9953-91473cd8197b",
   "metadata": {},
   "source": [
    "If the data scientists had randomly chosen the blocks from a larger set of segments and personas and if the goal was to generalize the campaign results to this larger set, a mixed-effect analysis would be the correct approach. This approach is illustrated below with a mixed-effect regression that allows for random fluctuation across the block intercepts and treatment effects:"
   ]
  },
  {
   "cell_type": "code",
   "execution_count": 25,
   "id": "5463fee7-14b8-418e-aae7-c69fdd8e1679",
   "metadata": {
    "ExecuteTime": {
     "end_time": "2023-08-20T20:52:14.461920Z",
     "start_time": "2023-08-20T20:52:13.697402Z"
    }
   },
   "outputs": [
    {
     "name": "stderr",
     "output_type": "stream",
     "text": [
      "/users/a091680/.conda/envs/boa_py_38/lib/python3.8/site-packages/statsmodels/regression/mixed_linear_model.py:2261: ConvergenceWarning: The Hessian matrix at the estimated parameter values is not positive definite.\n",
      "  warnings.warn(msg, ConvergenceWarning)\n"
     ]
    },
    {
     "data": {
      "text/html": [
       "<table class=\"simpletable\">\n",
       "<tr>\n",
       "       <td>Model:</td>        <td>MixedLM</td> <td>Dependent Variable:</td>    <td>outcome</td>  \n",
       "</tr>\n",
       "<tr>\n",
       "  <td>No. Observations:</td>  <td>400000</td>        <td>Method:</td>           <td>REML</td>    \n",
       "</tr>\n",
       "<tr>\n",
       "     <td>No. Groups:</td>        <td>4</td>          <td>Scale:</td>           <td>0.1380</td>   \n",
       "</tr>\n",
       "<tr>\n",
       "  <td>Min. group size:</td>   <td>100000</td>    <td>Log-Likelihood:</td>   <td>-171509.7703</td>\n",
       "</tr>\n",
       "<tr>\n",
       "  <td>Max. group size:</td>   <td>100000</td>      <td>Converged:</td>           <td>Yes</td>    \n",
       "</tr>\n",
       "<tr>\n",
       "  <td>Mean group size:</td>  <td>100000.0</td>          <td></td>                 <td></td>      \n",
       "</tr>\n",
       "</table>\n",
       "<table class=\"simpletable\">\n",
       "<tr>\n",
       "            <td></td>            <th>Coef.</th> <th>Std.Err.</th>   <th>z</th>   <th>P>|z|</th> <th>[0.025</th> <th>0.975]</th>\n",
       "</tr>\n",
       "<tr>\n",
       "  <th>Intercept</th>             <td>0.149</td>   <td>0.186</td>  <td>0.803</td> <td>0.422</td> <td>-0.215</td>  <td>0.513</td>\n",
       "</tr>\n",
       "<tr>\n",
       "  <th>treatment</th>             <td>0.021</td>   <td>0.186</td>  <td>0.115</td> <td>0.909</td> <td>-0.343</td>  <td>0.385</td>\n",
       "</tr>\n",
       "<tr>\n",
       "  <th>Group Var</th>             <td>0.138</td>     <td></td>       <td></td>      <td></td>       <td></td>       <td></td>   \n",
       "</tr>\n",
       "<tr>\n",
       "  <th>Group x treatment Cov</th> <td>0.000</td>     <td></td>       <td></td>      <td></td>       <td></td>       <td></td>   \n",
       "</tr>\n",
       "<tr>\n",
       "  <th>treatment Var</th>         <td>0.138</td>     <td></td>       <td></td>      <td></td>       <td></td>       <td></td>   \n",
       "</tr>\n",
       "</table>"
      ],
      "text/plain": [
       "<class 'statsmodels.iolib.summary2.Summary'>\n",
       "\"\"\"\n",
       "            Mixed Linear Model Regression Results\n",
       "==============================================================\n",
       "Model:             MixedLM   Dependent Variable:  outcome     \n",
       "No. Observations:  400000    Method:              REML        \n",
       "No. Groups:        4         Scale:               0.1380      \n",
       "Min. group size:   100000    Log-Likelihood:      -171509.7703\n",
       "Max. group size:   100000    Converged:           Yes         \n",
       "Mean group size:   100000.0                                   \n",
       "--------------------------------------------------------------\n",
       "                      Coef. Std.Err.   z   P>|z| [0.025 0.975]\n",
       "--------------------------------------------------------------\n",
       "Intercept             0.149    0.186 0.803 0.422 -0.215  0.513\n",
       "treatment             0.021    0.186 0.115 0.909 -0.343  0.385\n",
       "Group Var             0.138                                   \n",
       "Group x treatment Cov 0.000                                   \n",
       "treatment Var         0.138                                   \n",
       "==============================================================\n",
       "\n",
       "\"\"\""
      ]
     },
     "execution_count": 25,
     "metadata": {},
     "output_type": "execute_result"
    }
   ],
   "source": [
    "mixed_model = smf.mixedlm('outcome ~ treatment', uplift_data, groups=uplift_data['block'], re_formula=\"treatment\").fit()\n",
    "mixed_model.summary()"
   ]
  },
  {
   "cell_type": "code",
   "execution_count": 26,
   "id": "71b105e4-66c8-43c2-b38e-5ea88178942f",
   "metadata": {
    "ExecuteTime": {
     "end_time": "2023-08-20T20:52:14.474290Z",
     "start_time": "2023-08-20T20:52:14.463379Z"
    }
   },
   "outputs": [
    {
     "data": {
      "text/plain": [
       "treatment\n",
       "0   0.1491\n",
       "1   0.1750\n",
       "Name: outcome, dtype: float64"
      ]
     },
     "execution_count": 26,
     "metadata": {},
     "output_type": "execute_result"
    }
   ],
   "source": [
    "uplift_data.groupby('treatment')['outcome'].mean()"
   ]
  },
  {
   "cell_type": "markdown",
   "id": "06f0ab02-5207-47a3-a341-9a471cda65bf",
   "metadata": {},
   "source": [
    "The results show a treatment effect of 2.1pp with 95% CI of [-34.3pp, 38.5pp] CI (p=.90). The Weighted ATE (fixed effect) point estimate was the same, but the CI of [1.88, 2.38] was narrower and the effect was significant (p<.01, see section 'Weighted Average Treatment Effect'). For the random-effect version of bootstrapping, a subset of both individuals and blocks would be selected at each iteration. This additional variability explains why the results are significant in the fixed-effect context but not in the random-effect one. The key is to match the analysis with the campaign design which are both fixed in the uplift campaign example discussed earlier in this notebook."
   ]
  },
  {
   "cell_type": "markdown",
   "id": "771c262e-c52f-4f0e-9169-c7f8ef5ecdbd",
   "metadata": {},
   "source": [
    "# Forest Plot"
   ]
  },
  {
   "cell_type": "markdown",
   "id": "e6e639b2-b7fd-4cef-81cb-bafdd4463172",
   "metadata": {},
   "source": [
    "The different evaluation strategies are gathered to create a forest plot (the next cell takes a few minutes to run):"
   ]
  },
  {
   "cell_type": "code",
   "execution_count": 27,
   "id": "34ff52c8-a018-4657-94f7-e75775584ec3",
   "metadata": {
    "ExecuteTime": {
     "end_time": "2023-08-20T20:55:18.966351Z",
     "start_time": "2023-08-20T20:52:14.475784Z"
    },
    "scrolled": true
   },
   "outputs": [],
   "source": [
    "# re-run and save some of the analyses\n",
    "mean_comparison = uplift_data.groupby('treatment')['outcome'].mean().diff()[1]\n",
    "overall_ate = weighted_avg_test(uplift_data)\n",
    "bootstrap_overall = weighted_avg_bootstrap(uplift_data, n_bootstrap=2000)"
   ]
  },
  {
   "cell_type": "code",
   "execution_count": 28,
   "id": "29ea6a4b-fd45-4114-8f1a-4b083cff6f42",
   "metadata": {
    "ExecuteTime": {
     "end_time": "2023-08-20T20:55:18.979281Z",
     "start_time": "2023-08-20T20:55:18.968700Z"
    },
    "scrolled": true
   },
   "outputs": [],
   "source": [
    "# extract common results\n",
    "mean_result = pd.Series([mean_comparison, 0, 0])\n",
    "wate_result = overall_ate.loc[0, ['eff', 'ci_low', 'ci_upp']].reset_index(drop=True)\n",
    "bootstrap_result = bootstrap_overall.loc['all', ['eff', 'ci_low', 'ci_upp']].reset_index(drop=True)\n",
    "regres_result = pd.concat([regression.params, regression.conf_int()], axis=1).loc['treatment'].reset_index(drop=True)\n",
    "regres_block_result = pd.concat([regression_block.params, regression_block.conf_int()], axis=1).loc['treatment'].reset_index(drop=True)"
   ]
  },
  {
   "cell_type": "code",
   "execution_count": 29,
   "id": "a3e3dee0-b37b-4a0e-8317-06f389ce2659",
   "metadata": {
    "ExecuteTime": {
     "end_time": "2023-08-20T20:55:19.003722Z",
     "start_time": "2023-08-20T20:55:18.980882Z"
    },
    "scrolled": true
   },
   "outputs": [
    {
     "data": {
      "text/html": [
       "<div>\n",
       "<style scoped>\n",
       "    .dataframe tbody tr th:only-of-type {\n",
       "        vertical-align: middle;\n",
       "    }\n",
       "\n",
       "    .dataframe tbody tr th {\n",
       "        vertical-align: top;\n",
       "    }\n",
       "\n",
       "    .dataframe thead th {\n",
       "        text-align: right;\n",
       "    }\n",
       "</style>\n",
       "<table border=\"1\" class=\"dataframe\">\n",
       "  <thead>\n",
       "    <tr style=\"text-align: right;\">\n",
       "      <th></th>\n",
       "      <th>method</th>\n",
       "      <th>eff</th>\n",
       "      <th>ci_low</th>\n",
       "      <th>ci_upp</th>\n",
       "      <th>half_ci</th>\n",
       "    </tr>\n",
       "  </thead>\n",
       "  <tbody>\n",
       "    <tr>\n",
       "      <th>0</th>\n",
       "      <td>Weighted ATE Bootstrap</td>\n",
       "      <td>0.0213</td>\n",
       "      <td>0.0187</td>\n",
       "      <td>0.0238</td>\n",
       "      <td>0.0026</td>\n",
       "    </tr>\n",
       "    <tr>\n",
       "      <th>1</th>\n",
       "      <td>Weighted ATE</td>\n",
       "      <td>0.0213</td>\n",
       "      <td>0.0188</td>\n",
       "      <td>0.0238</td>\n",
       "      <td>0.0025</td>\n",
       "    </tr>\n",
       "    <tr>\n",
       "      <th>2</th>\n",
       "      <td>Regression With Block</td>\n",
       "      <td>0.0170</td>\n",
       "      <td>0.0144</td>\n",
       "      <td>0.0195</td>\n",
       "      <td>0.0025</td>\n",
       "    </tr>\n",
       "    <tr>\n",
       "      <th>3</th>\n",
       "      <td>Regression</td>\n",
       "      <td>0.0258</td>\n",
       "      <td>0.0234</td>\n",
       "      <td>0.0283</td>\n",
       "      <td>0.0024</td>\n",
       "    </tr>\n",
       "    <tr>\n",
       "      <th>4</th>\n",
       "      <td>Mean comparison</td>\n",
       "      <td>0.0258</td>\n",
       "      <td>0.0000</td>\n",
       "      <td>0.0000</td>\n",
       "      <td>0.0000</td>\n",
       "    </tr>\n",
       "  </tbody>\n",
       "</table>\n",
       "</div>"
      ],
      "text/plain": [
       "                   method    eff  ci_low  ci_upp  half_ci\n",
       "0  Weighted ATE Bootstrap 0.0213  0.0187  0.0238   0.0026\n",
       "1            Weighted ATE 0.0213  0.0188  0.0238   0.0025\n",
       "2   Regression With Block 0.0170  0.0144  0.0195   0.0025\n",
       "3              Regression 0.0258  0.0234  0.0283   0.0024\n",
       "4         Mean comparison 0.0258  0.0000  0.0000   0.0000"
      ]
     },
     "execution_count": 29,
     "metadata": {},
     "output_type": "execute_result"
    }
   ],
   "source": [
    "# combine results\n",
    "consolidated_result = pd.DataFrame([bootstrap_result, wate_result, regres_block_result, regres_result, mean_result])\n",
    "consolidated_result.index = ['Weighted ATE Bootstrap', 'Weighted ATE', 'Regression With Block', 'Regression', 'Mean comparison']\n",
    "consolidated_result = consolidated_result.reset_index()\n",
    "consolidated_result.columns = ['method', 'eff', 'ci_low', 'ci_upp']\n",
    "consolidated_result['half_ci'] = (consolidated_result['ci_upp'] - consolidated_result['ci_low'])/2\n",
    "consolidated_result"
   ]
  },
  {
   "cell_type": "code",
   "execution_count": 30,
   "id": "1e02e3c9-8bd0-48c4-adaa-ed0baac415b6",
   "metadata": {
    "ExecuteTime": {
     "end_time": "2023-08-20T20:55:20.200748Z",
     "start_time": "2023-08-20T20:55:19.005532Z"
    }
   },
   "outputs": [
    {
     "data": {
      "image/png": "[encoded data removed]",
      "text/plain": [
       "<Figure size 600x400 with 1 Axes>"
      ]
     },
     "metadata": {},
     "output_type": "display_data"
    }
   ],
   "source": [
    "# Create forest plot\n",
    "fig, ax = plt.subplots(dpi=100)\n",
    "\n",
    "# Plot the large points with error bars\n",
    "consolidated_result.plot.scatter(x='eff', y='method', xerr='half_ci', ax=ax, s=100)\n",
    "\n",
    "# Set the y-axis limit and label\n",
    "ax.set_ylim([-0.5, len(consolidated_result) - 0.5])\n",
    "ax.set_yticks(range(len(consolidated_result)))\n",
    "ax.set_yticklabels(consolidated_result['method'])\n",
    "\n",
    "# Add a dashed line at y=0.02\n",
    "ax.axvline(x=0.02, color='black', linewidth=1, linestyle='--')\n",
    "\n",
    "# Add text along the vertical line\n",
    "ax.text(0.0196, 3, 'True effect', ha='center', rotation='vertical')\n",
    "\n",
    "# Set labels and title\n",
    "plt.title('Point Estimate and 95% CI')\n",
    "ax.set_xlabel('Treatment Effect')\n",
    "ax.set_ylabel('Method')\n",
    "\n",
    "# Show the plot\n",
    "plt.show()"
   ]
  },
  {
   "cell_type": "markdown",
   "id": "88ebf1c9-ee40-45ad-9ccc-9c883c85baad",
   "metadata": {},
   "source": [
    "Estimates of the treatment effect in a simulated uplift campaign with varying Test to Control sample size ratio. Only the Confidence Interval of the Weighted Average Treatment Effect (Weighted ATE) includes the true effect (vertical dashed line)."
   ]
  }
 ],
 "metadata": {
  "kernelspec": {
   "display_name": "Python (Local)",
   "language": "python",
   "name": "local-base"
  },
  "language_info": {
   "codemirror_mode": {
    "name": "ipython",
    "version": 3
   },
   "file_extension": ".py",
   "mimetype": "text/x-python",
   "name": "python",
   "nbconvert_exporter": "python",
   "pygments_lexer": "ipython3",
   "version": "3.7.12"
  }
 },
 "nbformat": 4,
 "nbformat_minor": 5
}
